{
  "cells": [
    {
      "cell_type": "markdown",
      "source": [
        "# Example of using GCM for fitting a linear SCM (Structured Causal Models), retrieving the coefficients and bootstrapping for p-values\n",
        "# This is a (simplified) derivative of my paper \"A weighted false discovery rate adjusted p-values in aid of co-designing a causality graph with subject matter experts \"\n",
        "### Eli Y. Kling {https://www.linkedin.com/in/elikling/}\n",
        "#\n",
        "## The flow of this notebook;\n",
        "- define a synthetic toy dataset\n",
        "- Show the Simpson paradox it manifests (well all intros to Causality touch on this ;-) )\n",
        "- Show how to define a simple liner SCM using the GCM capabilities\n",
        "- Define a bootstrapping wrapper that returns the coefficients, covariances and appropriate p-values (that will be FDR corrected)\n",
        "- Devised visualisations of the results\n",
        "#\n",
        "### Note: there is a discussion to be had on the right way to define the family of hypotheses which multiplicity needs to be controlled and on the suggested approach of comparing the covariance matrix induced by the SCM to the observed. See my paper once I get it published ;-)\n",
        "#\n",
        "#\n",
        "## 15 June 2022 - Creation\n",
        "## 24 June 2022 - Correlations p-values\n",
        "## 12 July 2022 - bootstrap the p-values for the coefficients and the compare induced correlation matrices to expected\n",
        "## 02 Aug  2022 - Clean up code & simplify output plotting\n",
        "## 08 Aug  2022 - turn the bootstrap into function"
      ],
      "metadata": {
        "nteract": {
          "transient": {
            "deleting": false
          }
        }
      }
    },
    {
      "cell_type": "code",
      "source": [
        "# Libraries used in this notebook\n",
        "\n",
        "# No-brainers\n",
        "import numpy as np\n",
        "import pandas as pd\n",
        "pd.set_option('display.max_columns',None)\n",
        "pd.set_option('display.precision',4)\n",
        "pd.options.display.max_rows = 20\n",
        "\n",
        "import random\n",
        "import copy\n",
        "from scipy.stats import ttest_1samp # for t-test in the bootstap loop\n",
        "\n",
        "# visulisation\n",
        "import matplotlib.pyplot as plt\n",
        "import seaborn as sns\n",
        "%matplotlib inline\n",
        "## Standerdized plotiing\n",
        "plt.rc('xtick', labelsize=20) \n",
        "plt.rc('ytick', labelsize=20) \n",
        "plt.figure(figsize=(5, 5))\n",
        "sns.set_style('white')\n",
        "AvaOrangeLight = \"#FF5800\"\n",
        "AvaOrangeDark  = \"#DC4600\"\n",
        "AvaGoldLight = \"#FFB414\"\n",
        "AvaGoldDark  = \"#E6A61C\"\n",
        "\n",
        "\n",
        "# For baseline comparisons\n",
        "from sklearn.linear_model import LinearRegression\n",
        "from sklearn.metrics import mean_squared_error # need this also for the SCM\n",
        "import statsmodels.api as sm\n",
        "\n",
        "# DoWhy\n",
        "from dowhy import CausalModel\n",
        "import dowhy.datasets\n",
        "from dowhy import gcm\n",
        "from dowhy.gcm import refute_causal_structure\n",
        "import networkx as nx # required for defining the SCM in gcm & could be used also for plotting\n",
        "gcm.config.disable_progress_bars() # we will be running loads of gcm.fit during the bootstap"
      ],
      "outputs": [
        {
          "output_type": "display_data",
          "data": {
            "text/plain": "<Figure size 360x360 with 0 Axes>"
          },
          "metadata": {}
        }
      ],
      "execution_count": 1,
      "metadata": {
        "gather": {
          "logged": 1661372273668
        },
        "jupyter": {
          "outputs_hidden": false,
          "source_hidden": false
        },
        "nteract": {
          "transient": {
            "deleting": false
          }
        }
      }
    },
    {
      "cell_type": "code",
      "source": [
        "#Import utility functions I wrote\n",
        "from false_discovery_rate_control import adjusted_FDR_pvalues\n",
        "print(\"Visualisation Legend\")\n",
        "print(\"====================\")\n",
        "import scm_plots # this will display the ledgand for the visualisations\n",
        "from scm_plots import scm_results_plot\n",
        "from scm_plots import scm_induced_covariances_plot"
      ],
      "outputs": [
        {
          "output_type": "stream",
          "name": "stdout",
          "text": "Visualisation Legend\n====================\n"
        },
        {
          "output_type": "display_data",
          "data": {
            "text/plain": "<graphviz.dot.Digraph at 0x7f47f3f2c7f0>",
            "image/svg+xml": "<?xml version=\"1.0\" encoding=\"UTF-8\" standalone=\"no\"?>\n<!DOCTYPE svg PUBLIC \"-//W3C//DTD SVG 1.1//EN\"\n \"http://www.w3.org/Graphics/SVG/1.1/DTD/svg11.dtd\">\n<!-- Generated by graphviz version 2.40.1 (20161225.0304)\n -->\n<!-- Title: Ledgend Pages: 1 -->\n<svg width=\"489pt\" height=\"332pt\"\n viewBox=\"0.00 0.00 489.40 331.95\" xmlns=\"http://www.w3.org/2000/svg\" xmlns:xlink=\"http://www.w3.org/1999/xlink\">\n<g id=\"graph0\" class=\"graph\" transform=\"scale(1 1) rotate(0) translate(4 327.9457)\">\n<title>Ledgend</title>\n<polygon fill=\"#ffffff\" stroke=\"transparent\" points=\"-4,4 -4,-327.9457 485.4005,-327.9457 485.4005,4 -4,4\"/>\n<!-- Exogenous -->\n<g id=\"node1\" class=\"node\">\n<title>Exogenous</title>\n<polygon fill=\"#ffffff\" stroke=\"#000000\" points=\"105.4005,-323.9457 3.0253,-292.4457 207.7758,-292.4457 105.4005,-323.9457\"/>\n<text text-anchor=\"middle\" x=\"105.4005\" y=\"-299.8457\" font-family=\"Times,serif\" font-size=\"12.00\" fill=\"#000000\">Exogenous</text>\n</g>\n<!-- Observed -->\n<g id=\"node2\" class=\"node\">\n<title>Observed</title>\n<polygon fill=\"#ffffff\" stroke=\"#000000\" points=\"142.4005,-232.9457 68.4005,-232.9457 68.4005,-196.9457 142.4005,-196.9457 142.4005,-232.9457\"/>\n<text text-anchor=\"middle\" x=\"105.4005\" y=\"-211.8457\" font-family=\"Times,serif\" font-size=\"12.00\" fill=\"#000000\">Observed</text>\n</g>\n<!-- Exogenous&#45;&gt;Observed -->\n<g id=\"edge1\" class=\"edge\">\n<title>Exogenous&#45;&gt;Observed</title>\n<path fill=\"none\" stroke=\"#000000\" d=\"M43.9891,-292.4187C15.102,-284.5764 -10.148,-271.5764 4.4005,-250.9457 11.1123,-241.4281 35.3915,-232.6141 58.4619,-226.0896\"/>\n<polygon fill=\"#000000\" stroke=\"#000000\" points=\"59.488,-229.4377 68.2204,-223.4382 57.6526,-222.6826 59.488,-229.4377\"/>\n<text text-anchor=\"middle\" x=\"94.9005\" y=\"-254.3457\" font-family=\"Times,serif\" font-size=\"12.00\" fill=\"#000000\">Effect, adjusted pvalue &lt; 0.05</text>\n</g>\n<!-- Exogenous&#45;&gt;Observed -->\n<g id=\"edge3\" class=\"edge\">\n<title>Exogenous&#45;&gt;Observed</title>\n<path fill=\"none\" stroke=\"#000000\" d=\"M157.7148,-288.8747C178.9831,-280.332 196.2911,-267.7889 185.4005,-250.9457 177.6813,-239.0073 164.9553,-230.9888 151.8999,-225.6187\"/>\n<polygon fill=\"#000000\" stroke=\"#000000\" points=\"156.2738,-285.6752 148.0912,-292.4054 158.6849,-292.2469 156.2738,-285.6752\"/>\n<polygon fill=\"#000000\" stroke=\"#000000\" points=\"152.9962,-222.2931 142.4022,-222.1584 150.5999,-228.8702 152.9962,-222.2931\"/>\n<text text-anchor=\"middle\" x=\"334.9005\" y=\"-254.3457\" font-family=\"Times,serif\" font-size=\"12.00\" fill=\"#000000\">Covariance Equivalance, adjusted pvalue &lt; 0.05</text>\n</g>\n<!-- Latent -->\n<g id=\"node3\" class=\"node\">\n<title>Latent</title>\n<ellipse fill=\"#ffffff\" stroke=\"#000000\" cx=\"105.4005\" cy=\"-113.4729\" rx=\"34.4458\" ry=\"34.4458\"/>\n<text text-anchor=\"middle\" x=\"105.4005\" y=\"-110.3729\" font-family=\"Times,serif\" font-size=\"12.00\" fill=\"#000000\">Latent</text>\n</g>\n<!-- Observed&#45;&gt;Latent -->\n<g id=\"edge2\" class=\"edge\">\n<title>Observed&#45;&gt;Latent</title>\n<path fill=\"none\" stroke=\"#ff5800\" d=\"M68.2204,-206.4533C42.6869,-199.7814 12.0711,-189.8231 4.4005,-178.9457 1.0708,-174.2239 1.4012,-170.884 4.4005,-165.9457 16.9431,-145.2952 40.5455,-132.4006 61.7813,-124.564\"/>\n<polygon fill=\"#ff5800\" stroke=\"#ff5800\" points=\"62.9886,-127.8503 71.3235,-121.3097 60.729,-121.225 62.9886,-127.8503\"/>\n<text text-anchor=\"middle\" x=\"94.9005\" y=\"-169.3457\" font-family=\"Times,serif\" font-size=\"12.00\" fill=\"#000000\">Effect, adjusted pvalue &gt; 0.05</text>\n</g>\n<!-- Observed&#45;&gt;Latent -->\n<g id=\"edge4\" class=\"edge\">\n<title>Observed&#45;&gt;Latent</title>\n<path fill=\"none\" stroke=\"#ffb414\" d=\"M151.8999,-204.2728C164.9553,-198.9027 177.6813,-190.8841 185.4005,-178.9457 199.1134,-157.7376 173.5787,-140.0623 147.8005,-128.444\"/>\n<polygon fill=\"#ffb414\" stroke=\"#ffb414\" points=\"150.5999,-201.0213 142.4022,-207.7331 152.9962,-207.5983 150.5999,-201.0213\"/>\n<polygon fill=\"#ffb414\" stroke=\"#ffb414\" points=\"148.9374,-125.1244 138.3645,-124.4423 146.2043,-131.5688 148.9374,-125.1244\"/>\n<text text-anchor=\"middle\" x=\"334.9005\" y=\"-169.3457\" font-family=\"Times,serif\" font-size=\"12.00\" fill=\"#000000\">Covariance Equivalance, adjusted pvalue &gt; 0.05</text>\n</g>\n<!-- Outcome -->\n<g id=\"node4\" class=\"node\">\n<title>Outcome</title>\n<polygon fill=\"#ffffff\" stroke=\"#000000\" points=\"105.4005,0 192.7273,-31.5 18.0737,-31.5 105.4005,0\"/>\n<text text-anchor=\"middle\" x=\"105.4005\" y=\"-17.9\" font-family=\"Times,serif\" font-size=\"12.00\" fill=\"#000000\">Outcome</text>\n</g>\n<!-- Latent&#45;&gt;Outcome -->\n<g id=\"edge5\" class=\"edge\">\n<title>Latent&#45;&gt;Outcome</title>\n<path fill=\"none\" stroke=\"#000000\" d=\"M105.4005,-78.7763C105.4005,-66.3003 105.4005,-52.6269 105.4005,-41.715\"/>\n<polygon fill=\"#000000\" stroke=\"#000000\" points=\"108.9006,-41.5093 105.4005,-31.5094 101.9006,-41.5094 108.9006,-41.5093\"/>\n</g>\n<!-- intercept -->\n<g id=\"node5\" class=\"node\">\n<title>intercept</title>\n<polygon fill=\"#ffffff\" stroke=\"transparent\" points=\"280.9005,-309.4457 225.9005,-309.4457 225.9005,-296.4457 280.9005,-296.4457 280.9005,-309.4457\"/>\n<text text-anchor=\"middle\" x=\"253.4005\" y=\"-299.8457\" font-family=\"Times,serif\" font-size=\"12.00\" fill=\"#000000\">intercept</text>\n</g>\n</g>\n</svg>\n"
          },
          "metadata": {}
        }
      ],
      "execution_count": 2,
      "metadata": {
        "gather": {
          "logged": 1661372274265
        },
        "jupyter": {
          "outputs_hidden": false,
          "source_hidden": false
        },
        "nteract": {
          "transient": {
            "deleting": false
          }
        }
      }
    },
    {
      "cell_type": "markdown",
      "source": [
        "# 1. Simpson's Paradox\n",
        "- Create toy data where the paradox is evident\n",
        "- Fit a naïve regression where the relation is not intuitive\n",
        "- Then show what happens when a confounder is added (direction is changed)\n",
        "- Throwing all the variables in kind of works but specifying a causal DAG will get the estimates correctly"
      ],
      "metadata": {
        "nteract": {
          "transient": {
            "deleting": false
          }
        }
      }
    },
    {
      "cell_type": "code",
      "source": [
        "# Toy data\n",
        "# A depo manager needs to decide how much to refule the van\n",
        "np.random.seed(seed=853210)\n",
        "\n",
        "n_samples = 2000\n",
        "\n",
        "Winter_Ind            = np.random.binomial(n=1                                  , p=0.24                      , size=n_samples)\n",
        "Rain_Ind              = np.random.binomial(n=1                                  , p=(0.2 + Winter_Ind*0.3)    , size=n_samples)\n",
        "Speed_KMpH            = np.random.normal  (loc=60 - Rain_Ind*0.9                , scale = 0.7                 , size=n_samples)\n",
        "Fuel_Consumption_LpKM = np.random.normal  (loc=50 + Speed_KMpH/4 + Rain_Ind*2.1 , scale = 0.5                 , size=n_samples)\n",
        "\n",
        "toy_example = pd.DataFrame(data=dict(Winter_Ind=Winter_Ind, Rain_Ind=Rain_Ind, Speed_KMpH=Speed_KMpH, Fuel_Consumption_LpKM=Fuel_Consumption_LpKM))\n",
        "toy_example.head()"
      ],
      "outputs": [
        {
          "output_type": "execute_result",
          "execution_count": 3,
          "data": {
            "text/plain": "   Winter_Ind  Rain_Ind  Speed_KMpH  Fuel_Consumption_LpKM\n0           0         0     59.9425                66.2462\n1           1         1     59.7570                67.0014\n2           0         0     59.9708                64.9859\n3           0         0     60.5837                65.6836\n4           0         0     60.0492                64.5607",
            "text/html": "<div>\n<style scoped>\n    .dataframe tbody tr th:only-of-type {\n        vertical-align: middle;\n    }\n\n    .dataframe tbody tr th {\n        vertical-align: top;\n    }\n\n    .dataframe thead th {\n        text-align: right;\n    }\n</style>\n<table border=\"1\" class=\"dataframe\">\n  <thead>\n    <tr style=\"text-align: right;\">\n      <th></th>\n      <th>Winter_Ind</th>\n      <th>Rain_Ind</th>\n      <th>Speed_KMpH</th>\n      <th>Fuel_Consumption_LpKM</th>\n    </tr>\n  </thead>\n  <tbody>\n    <tr>\n      <th>0</th>\n      <td>0</td>\n      <td>0</td>\n      <td>59.9425</td>\n      <td>66.2462</td>\n    </tr>\n    <tr>\n      <th>1</th>\n      <td>1</td>\n      <td>1</td>\n      <td>59.7570</td>\n      <td>67.0014</td>\n    </tr>\n    <tr>\n      <th>2</th>\n      <td>0</td>\n      <td>0</td>\n      <td>59.9708</td>\n      <td>64.9859</td>\n    </tr>\n    <tr>\n      <th>3</th>\n      <td>0</td>\n      <td>0</td>\n      <td>60.5837</td>\n      <td>65.6836</td>\n    </tr>\n    <tr>\n      <th>4</th>\n      <td>0</td>\n      <td>0</td>\n      <td>60.0492</td>\n      <td>64.5607</td>\n    </tr>\n  </tbody>\n</table>\n</div>"
          },
          "metadata": {}
        }
      ],
      "execution_count": 3,
      "metadata": {
        "gather": {
          "logged": 1661372274360
        },
        "jupyter": {
          "outputs_hidden": false,
          "source_hidden": false
        },
        "nteract": {
          "transient": {
            "deleting": false
          }
        }
      }
    },
    {
      "cell_type": "code",
      "source": [
        "df = copy.copy(toy_example)\n",
        "df = df.reset_index(drop=True) # just to be on the safe side\n",
        "\n",
        "#the automodel identifiyes categorical variables if they are corretly typed and we need this in anycase for corretly modeling 0 & 1\n",
        "df.Winter_Ind = df.Winter_Ind.astype(\"category\")\n",
        "df[\"Rain_Ind_Cat\"] =df[\"Rain_Ind\"].apply(str)"
      ],
      "outputs": [],
      "execution_count": 4,
      "metadata": {
        "gather": {
          "logged": 1661372274448
        },
        "jupyter": {
          "outputs_hidden": false,
          "source_hidden": false
        },
        "nteract": {
          "transient": {
            "deleting": false
          }
        }
      }
    },
    {
      "cell_type": "markdown",
      "source": [
        "### Naïve approach would be to either model the consumption as a function of speed or try to chuck everithing in"
      ],
      "metadata": {
        "nteract": {
          "transient": {
            "deleting": false
          }
        }
      }
    },
    {
      "cell_type": "code",
      "source": [
        "# In this approach the fuel consuption declines as speed increases.\n",
        "g = sns.lmplot(x=\"Speed_KMpH\", y=\"Fuel_Consumption_LpKM\", data=df, scatter_kws={\"s\": 1})\n",
        "sns.despine(bottom = True, left = True)"
      ],
      "outputs": [
        {
          "output_type": "display_data",
          "data": {
            "text/plain": "<Figure size 360x360 with 1 Axes>",
            "image/png": "[encoded data removed]"
          },
          "metadata": {}
        }
      ],
      "execution_count": 5,
      "metadata": {
        "gather": {
          "logged": 1661372275083
        },
        "jupyter": {
          "outputs_hidden": false,
          "source_hidden": false
        },
        "nteract": {
          "transient": {
            "deleting": false
          }
        }
      }
    },
    {
      "cell_type": "code",
      "source": [
        "#Super naïve: model Fuel = f(Speed)\n",
        "X=np.array(df.Speed_KMpH).reshape((-1, 1))\n",
        "Y=np.array(df.Fuel_Consumption_LpKM)\n",
        "X2 = sm.add_constant(X)\n",
        "ols1 = sm.OLS(Y, X2)\n",
        "ols1Fit = ols1.fit()\n",
        "print(ols1Fit.summary())\n",
        "print(\":\")\n",
        "print(\"Note: very poor fit statistics although the coeficiants are (kind of) statistically significant\")"
      ],
      "outputs": [
        {
          "output_type": "stream",
          "name": "stdout",
          "text": "                            OLS Regression Results                            \n==============================================================================\nDep. Variable:                      y   R-squared:                       0.041\nModel:                            OLS   Adj. R-squared:                  0.041\nMethod:                 Least Squares   F-statistic:                     85.63\nDate:                Wed, 24 Aug 2022   Prob (F-statistic):           5.40e-20\nTime:                        20:17:54   Log-Likelihood:                -2762.4\nNo. Observations:                2000   AIC:                             5529.\nDf Residuals:                    1998   BIC:                             5540.\nDf Model:                           1                                         \nCovariance Type:            nonrobust                                         \n==============================================================================\n                 coef    std err          t      P>|t|      [0.025      0.975]\n------------------------------------------------------------------------------\nconst         80.2922      1.601     50.155      0.000      77.153      83.432\nx1            -0.2479      0.027     -9.254      0.000      -0.300      -0.195\n==============================================================================\nOmnibus:                       70.134   Durbin-Watson:                   2.023\nProb(Omnibus):                  0.000   Jarque-Bera (JB):               70.907\nSkew:                           0.430   Prob(JB):                     4.01e-16\nKurtosis:                       2.666   Cond. No.                     4.44e+03\n==============================================================================\n\nNotes:\n[1] Standard Errors assume that the covariance matrix of the errors is correctly specified.\n[2] The condition number is large, 4.44e+03. This might indicate that there are\nstrong multicollinearity or other numerical problems.\n:\nNote: very poor fit statistics although the coeficiants are (kind of) statistically significant\n"
        }
      ],
      "execution_count": 6,
      "metadata": {
        "gather": {
          "logged": 1661372275171
        },
        "jupyter": {
          "outputs_hidden": false,
          "source_hidden": false
        },
        "nteract": {
          "transient": {
            "deleting": false
          }
        }
      }
    },
    {
      "cell_type": "code",
      "source": [
        "# Brute-force model Fuel = f(all vars)\n",
        "X=np.array(df[[\"Speed_KMpH\",\"Winter_Ind\",\"Rain_Ind\"]]).reshape((-1, 3))\n",
        "Y=np.array(df.Fuel_Consumption_LpKM)\n",
        "X2 = sm.add_constant(X)\n",
        "ols2 = sm.OLS(Y, X2)\n",
        "ols2Fit = ols2.fit()\n",
        "print(ols2Fit.summary())\n",
        "print(\":\")\n",
        "print(\"Note: this looks better - fit is improved and the coeficinet are kind of in the right ball park. \")"
      ],
      "outputs": [
        {
          "output_type": "stream",
          "name": "stdout",
          "text": "                            OLS Regression Results                            \n==============================================================================\nDep. Variable:                      y   R-squared:                       0.729\nModel:                            OLS   Adj. R-squared:                  0.728\nMethod:                 Least Squares   F-statistic:                     1788.\nDate:                Wed, 24 Aug 2022   Prob (F-statistic):               0.00\nTime:                        20:17:55   Log-Likelihood:                -1499.4\nNo. Observations:                2000   AIC:                             3007.\nDf Residuals:                    1996   BIC:                             3029.\nDf Model:                           3                                         \nCovariance Type:            nonrobust                                         \n==============================================================================\n                 coef    std err          t      P>|t|      [0.025      0.975]\n------------------------------------------------------------------------------\nconst         47.7105      0.967     49.315      0.000      45.813      49.608\nx1             0.2883      0.016     17.880      0.000       0.257       0.320\nx2             0.0155      0.028      0.547      0.584      -0.040       0.071\nx3             2.1208      0.031     69.159      0.000       2.061       2.181\n==============================================================================\nOmnibus:                        0.229   Durbin-Watson:                   2.028\nProb(Omnibus):                  0.892   Jarque-Bera (JB):                0.271\nSkew:                           0.022   Prob(JB):                        0.873\nKurtosis:                       2.964   Cond. No.                     5.05e+03\n==============================================================================\n\nNotes:\n[1] Standard Errors assume that the covariance matrix of the errors is correctly specified.\n[2] The condition number is large, 5.05e+03. This might indicate that there are\nstrong multicollinearity or other numerical problems.\n:\nNote: this looks better - fit is improved and the coeficinet are kind of in the right ball park. \n"
        }
      ],
      "execution_count": 7,
      "metadata": {
        "gather": {
          "logged": 1661372275264
        },
        "jupyter": {
          "outputs_hidden": false,
          "source_hidden": false
        },
        "nteract": {
          "transient": {
            "deleting": false
          }
        }
      }
    },
    {
      "cell_type": "code",
      "source": [
        "#Let's plot this\n",
        "g = sns.lmplot(x=\"Speed_KMpH\", y=\"Fuel_Consumption_LpKM\", hue=\"Rain_Ind\", data=df, scatter_kws={\"s\": 1})\n",
        "sns.despine(bottom = True, left = True)"
      ],
      "outputs": [
        {
          "output_type": "display_data",
          "data": {
            "text/plain": "<Figure size 410.625x360 with 1 Axes>",
            "image/png": "[encoded data removed]"
          },
          "metadata": {}
        }
      ],
      "execution_count": 8,
      "metadata": {
        "gather": {
          "logged": 1661372276039
        },
        "jupyter": {
          "outputs_hidden": false,
          "source_hidden": false
        },
        "nteract": {
          "transient": {
            "deleting": false
          }
        }
      }
    },
    {
      "cell_type": "markdown",
      "source": [
        "# 2. Fit a postulated DAG with DoWhy GSM\n",
        "#\n",
        "### Talk to a subject mater expert (SME) and construct a causality graph that also takes into account the correlation between rain and winter\n",
        "#\n",
        "#### Yeh, the expert will think that people drive slower in winter - well my dad thinks so ;-)"
      ],
      "metadata": {
        "nteract": {
          "transient": {
            "deleting": false
          }
        }
      }
    },
    {
      "cell_type": "code",
      "source": [
        "# First look at the correlations then used experiance and experties to define a causality DAG\n",
        "temp = copy.copy(df)\n",
        "temp.Winter_Ind = temp.Winter_Ind.astype(\"int64\") # did I say yet I miss SAS? It was so much better at this than R or Python.\n",
        "temp.cov()"
      ],
      "outputs": [
        {
          "output_type": "execute_result",
          "execution_count": 9,
          "data": {
            "text/plain": "                       Winter_Ind  Rain_Ind  Speed_KMpH  Fuel_Consumption_LpKM\nWinter_Ind                 0.1772    0.0491     -0.0505                 0.0922\nRain_Ind                   0.0491    0.1886     -0.1633                 0.3536\nSpeed_KMpH                -0.0505   -0.1633      0.6471                -0.1604\nFuel_Consumption_LpKM      0.0922    0.3536     -0.1604                 0.9675",
            "text/html": "<div>\n<style scoped>\n    .dataframe tbody tr th:only-of-type {\n        vertical-align: middle;\n    }\n\n    .dataframe tbody tr th {\n        vertical-align: top;\n    }\n\n    .dataframe thead th {\n        text-align: right;\n    }\n</style>\n<table border=\"1\" class=\"dataframe\">\n  <thead>\n    <tr style=\"text-align: right;\">\n      <th></th>\n      <th>Winter_Ind</th>\n      <th>Rain_Ind</th>\n      <th>Speed_KMpH</th>\n      <th>Fuel_Consumption_LpKM</th>\n    </tr>\n  </thead>\n  <tbody>\n    <tr>\n      <th>Winter_Ind</th>\n      <td>0.1772</td>\n      <td>0.0491</td>\n      <td>-0.0505</td>\n      <td>0.0922</td>\n    </tr>\n    <tr>\n      <th>Rain_Ind</th>\n      <td>0.0491</td>\n      <td>0.1886</td>\n      <td>-0.1633</td>\n      <td>0.3536</td>\n    </tr>\n    <tr>\n      <th>Speed_KMpH</th>\n      <td>-0.0505</td>\n      <td>-0.1633</td>\n      <td>0.6471</td>\n      <td>-0.1604</td>\n    </tr>\n    <tr>\n      <th>Fuel_Consumption_LpKM</th>\n      <td>0.0922</td>\n      <td>0.3536</td>\n      <td>-0.1604</td>\n      <td>0.9675</td>\n    </tr>\n  </tbody>\n</table>\n</div>"
          },
          "metadata": {}
        }
      ],
      "execution_count": 9,
      "metadata": {
        "gather": {
          "logged": 1661372276167
        },
        "jupyter": {
          "outputs_hidden": false,
          "source_hidden": false
        },
        "nteract": {
          "transient": {
            "deleting": false
          }
        }
      }
    },
    {
      "cell_type": "code",
      "source": [
        "nxDAG = nx.DiGraph([('Winter_Ind'  , 'Rain_Ind_Cat'),\n",
        "                    ('Winter_Ind'  , 'Speed_KMpH'),\n",
        "                    ('Rain_Ind_Cat', 'Speed_KMpH'),\n",
        "                    ('Speed_KMpH'  , 'Fuel_Consumption_LpKM')])\n",
        "\n",
        "scm = gcm.StructuralCausalModel(nxDAG) \n",
        "\n",
        "scm.set_causal_mechanism('Winter_Ind'           , gcm.EmpiricalDistribution())\n",
        "scm.set_causal_mechanism('Rain_Ind_Cat'         , gcm.ClassifierFCM(gcm.ml.create_logistic_regression_classifier()))\n",
        "# As Rain_ind_Cat is hot encoded automatically there is no need for an intercept. the effect of rain will be beta(rain=1) - beta(rain=0)\n",
        "scm.set_causal_mechanism('Speed_KMpH'           , gcm.AdditiveNoiseModel(gcm.ml.create_linear_regressor(fit_intercept=False)))\n",
        "scm.set_causal_mechanism('Fuel_Consumption_LpKM', gcm.AdditiveNoiseModel(gcm.ml.create_linear_regressor()))\n",
        "\n",
        "# Just for reference you could auto descide the functional fit using the line bellow\n",
        "# gcm.auto.assign_causal_mechanisms(scm,df) - this will use gradiant bootsing for cont variables\n",
        "\n",
        "gcm.fit(scm, df)"
      ],
      "outputs": [],
      "execution_count": 10,
      "metadata": {
        "gather": {
          "logged": 1661372276257
        },
        "jupyter": {
          "outputs_hidden": false,
          "source_hidden": false
        },
        "nteract": {
          "transient": {
            "deleting": false
          }
        }
      }
    },
    {
      "cell_type": "code",
      "source": [
        "# Get the coefficiants\n",
        "print(\"--- Rain_Ind: Rememebr this is a logistic regression - the coeficnets need to be converted to probality terminology ---\")\n",
        "print(scm.causal_mechanism('Rain_Ind_Cat').classifier_model.sklearn_model.intercept_)\n",
        "print(scm.causal_mechanism('Rain_Ind_Cat').classifier_model.sklearn_model.coef_)\n",
        "print(\"--- Speed_KMpH ---\")\n",
        "print(scm.causal_mechanism('Speed_KMpH').prediction_model.sklearn_model.intercept_)\n",
        "print(scm.causal_mechanism('Speed_KMpH').prediction_model.sklearn_model.coef_)\n",
        "print(\"--- Fuel_Consumption_LpKM ---\")\n",
        "print(scm.causal_mechanism('Fuel_Consumption_LpKM').prediction_model.sklearn_model.intercept_)\n",
        "print(scm.causal_mechanism('Fuel_Consumption_LpKM').prediction_model.sklearn_model.coef_)"
      ],
      "outputs": [
        {
          "output_type": "stream",
          "name": "stdout",
          "text": "--- Rain_Ind: Rememebr this is a logistic regression - the coeficnets need to be converted to probality terminology ---\n[-1.45549624]\n[[1.30472751]]\n--- Speed_KMpH ---\n0.0\n[ 5.99831629e+01  5.91301899e+01 -4.87588011e-02]\n--- Fuel_Consumption_LpKM ---\n80.2922419321907\n[-0.24788584]\n"
        }
      ],
      "execution_count": 11,
      "metadata": {
        "gather": {
          "logged": 1661372276348
        },
        "jupyter": {
          "outputs_hidden": false,
          "source_hidden": false
        },
        "nteract": {
          "transient": {
            "deleting": false
          }
        }
      }
    },
    {
      "cell_type": "markdown",
      "source": [
        "# 3. Bootstrap the p-values for the coefficients and the compare induced correlation matrices to expected\n",
        "## Bootstrap loop;\n",
        "### sample from the data\n",
        "### correlation matrix\n",
        "### fit model\n",
        "### get coefficients\n",
        "### get induced correlation matrix from drawn samples\n",
        "### apply FDR adjustment to the p-values"
      ],
      "metadata": {}
    },
    {
      "cell_type": "code",
      "source": [
        "# Convert Logistic ods ratios to probaility terminolagy\n",
        "def logit2prob (logit):\n",
        "    odds = np.exp(logit)\n",
        "    prob = odds / (1 + odds)\n",
        "    return(prob)\n",
        "print(logit2prob(0.74)) #should be 0.676996"
      ],
      "outputs": [
        {
          "output_type": "stream",
          "name": "stdout",
          "text": "0.676995856238523\n"
        }
      ],
      "execution_count": 12,
      "metadata": {
        "gather": {
          "logged": 1661372276425
        },
        "jupyter": {
          "outputs_hidden": false,
          "source_hidden": false
        },
        "nteract": {
          "transient": {
            "deleting": false
          }
        }
      }
    },
    {
      "cell_type": "code",
      "source": [
        "def bootstrap_scms(n_boot, input_df, scm_parameters_func, scm_parameter_names):\n",
        "    ''' This is written for the purpose of the example in this notebook. Much more work needs to be done to generalise it.\n",
        "        The output DataFrame complies with the structure obtained while using sempoy and is used as input for the visualisation functions\n",
        "\n",
        "        Param: n_boot - number of bootstap iterations\n",
        "        Param: input_df - Pandas datafream with the varialbes that are hard coded bellow\n",
        "        Param: scm_parameters_func - a function matched to the SCM mapping the coeficnets [retuns list with an expected order]\n",
        "        Param: scm_parameter_names - ordered list labeling the output of scm_parameters_func\n",
        "        \n",
        "        Return: Pandas dataframe with parameter estimates, raw p-values and FDR adjusted p-values\n",
        "        '''\n",
        "\n",
        "    import statsmodels.stats.weightstats as ssws # for TOST\n",
        "\n",
        "    origianl_df = copy.copy(input_df)\n",
        "    df_nobs = origianl_df.shape[0]\n",
        "    # df_ncols = origianl_df.shape[1] - as there is Rain_ind & Rain_ind_Cat we really need to only count the numeric fields\n",
        "    # the order is important as the tranlge will be vectorised and the position has a meaning\n",
        "    df_columns=origianl_df.select_dtypes(include=['int16', 'int32', 'int64', 'float16', 'float32', 'float64','category']).columns.tolist()\n",
        "    df_ncols=len(df_columns)\n",
        "\n",
        "    #W hen looking at the covariance matrix we need only the upper triangle, including the diagonal. It is more efficiant to flatten it.\n",
        "    n_covariaces = int(df_ncols * (df_ncols-1) / 2 + df_ncols)\n",
        "\n",
        "    bootstapped_covariances_list = []\n",
        "    SCM_covariances_list = []\n",
        "    scm_parameters = []\n",
        "    for ib in range(n_boot):\n",
        "        # sample form the data - no need to apply null hypotheisis conditions (no correlations at all) as we want the mean and std of the coefficants and assume we know that the null distibution of noise is normal\n",
        "        # one can use sample but stackoverflow suggests this approach is more efficiant\n",
        "        random_pointers = pd.DataFrame(index=np.random.randint(df_nobs, size=df_nobs))\n",
        "        bootstrap_df = origianl_df.merge(random_pointers, left_index=True, right_index=True, how='right')\n",
        "        \n",
        "        # fit the scm & get the parameters\n",
        "        gcm.fit(scm, bootstrap_df)\n",
        "        scm_parameters_bi = scm_parameters_func(scm)\n",
        "        scm_parameters.append(scm_parameters_bi)\n",
        "\n",
        "        # The covariae of the bootstapped sample\n",
        "        bootstrap_df.Winter_Ind = bootstrap_df.Winter_Ind.astype(\"int64\")\n",
        "        # control the order of columns so not to loos the link to the index of the flattened covariance\n",
        "        bootstrap_df = bootstrap_df[df_columns].reset_index(drop=True)\n",
        "        \n",
        "        #bootstrap_df_corr = bootstrap_df.corr()\n",
        "        bootstrap_df_cov = bootstrap_df.cov().to_numpy()\n",
        "    \n",
        "        # Now sample from the scm, estimate the induced covariances and compare to the 'original' cov matrix\n",
        "        scm_sample=gcm.draw_samples(scm,df_nobs)\n",
        "        scm_sample.Winter_Ind = scm_sample.Winter_Ind.astype(\"int64\")\n",
        "        scm_sample[\"Rain_Ind\"]   = scm_sample.Rain_Ind_Cat.astype(\"float\")\n",
        "        # control the order of columns so not to loos the link to the index of the flattened covariance\n",
        "        scm_sample = scm_sample[df_columns].reset_index(drop=True)\n",
        "        scm_induced_cov = scm_sample.cov().to_numpy()\n",
        "        \n",
        "        #Calculate the differnece measure to do the an equivalance (TOST) test H0(1): SCM_Induced_Cov-dataset_Cov < -d & H0(2): SCM_Induced_Cov-dataset_Cov > d\n",
        "        #to do that the covariances for the bootstapped dataframe and the induced by the SCM are stored (flattning the upper triangle)\n",
        "        bootstapped_cs = np.zeros((n_covariaces))\n",
        "        SCM_cs = np.zeros((n_covariaces))\n",
        "        cs_index = 0\n",
        "        for i in range(df_ncols):\n",
        "            for j in range(i,df_ncols):\n",
        "                bootstapped_cs[cs_index] = bootstrap_df_cov[i,j]\n",
        "                SCM_cs[cs_index] = scm_induced_cov[i,j]\n",
        "                cs_index = cs_index + 1\n",
        "        bootstapped_covariances_list.append(bootstapped_cs)\n",
        "        SCM_covariances_list.append(SCM_cs)\n",
        "\n",
        "        #deleteing the temp dataframe both to ensure not rubish is carried over and to clear memory\n",
        "        lst = [random_pointers, bootstrap_df, scm_sample]\n",
        "        del random_pointers\n",
        "        del bootstrap_df\n",
        "        del scm_sample\n",
        "        del lst\n",
        "        # End of for ib\n",
        "\n",
        "    bootstapped_covariances = np.array(bootstapped_covariances_list)\n",
        "    SCM_covariances         = np.array(SCM_covariances_list)\n",
        "\n",
        "    delta = 0.10 #acceptance rand for TOST\n",
        "    cs_index = 0\n",
        "    cov_record_list = []\n",
        "    for i in range(df_ncols):\n",
        "        for j in range(i,df_ncols):\n",
        "            x1=bootstapped_covariances[ : , cs_index]\n",
        "            x2=SCM_covariances[ : , cs_index]\n",
        "            \n",
        "            TOST_pvalue = ssws.ttost_ind(x1 = x1, x2 = x2, low = -1 * delta, upp = delta, usevar='unequal')[0]\n",
        "            # edge  Estimate p-value lval rval op\n",
        "            cov_record_list.append(['covariance', (np.mean(x2)), TOST_pvalue, df_columns[i], df_columns[j], \"~~\"])\n",
        "            cs_index = cs_index + 1\n",
        "\n",
        "    cov_record_df=pd.DataFrame(cov_record_list)\n",
        "    cov_record_df.columns = ['edge', 'Estimate', 'p-value', 'lval', 'rval', 'op']\n",
        "\n",
        "    # regressions estimates\n",
        "    scm_parameters_df = pd.DataFrame(scm_parameters)\n",
        "    scm_parameters_df.columns = scm_parameter_names\n",
        "\n",
        "    parameters_pvalues = pd.DataFrame(ttest_1samp(scm_parameters_df, 0).pvalue, columns = ['p-value'])\n",
        "\n",
        "    #now that the p-values are calculated 'transalte' the logistic parameters == de-exponenet them\n",
        "    scm_parameters_df['Rain_Ind~Winter_Ind'] = logit2prob((scm_parameters_df['Rain_Ind~Intercept'] + scm_parameters_df['Rain_Ind~Winter_Ind']))\n",
        "    scm_parameters_df['Rain_Ind~Intercept'] = logit2prob(scm_parameters_df['Rain_Ind~Intercept'])\n",
        "\n",
        "\n",
        "    parameter_sammary = pd.DataFrame(scm_parameters_df.mean()).reset_index()\n",
        "    parameter_sammary.columns = ['edge', 'Estimate']\n",
        "\n",
        "    parameter_sammary = pd.concat([parameter_sammary, parameters_pvalues],axis=1)\n",
        "    parameter_sammary[['lval','rval']] =  parameter_sammary['edge'].str.split(\"~\", expand=True)\n",
        "    parameter_sammary['op']=\"~\" # just so my code using semopy output works\n",
        "\n",
        "    bootstrap_estimate = pd.concat([parameter_sammary, cov_record_df], axis = 0, ignore_index=True)\n",
        "    bootstrap_estimate.reset_index(drop=True)\n",
        "\n",
        "    #Multiplicity ocontrol\n",
        "    bootstrap_estimate[\"raw_pvalue\"] = bootstrap_estimate[\"p-value\"]\n",
        "    bootstrap_estimate[\"p-value\"] = adjusted_FDR_pvalues(bootstrap_estimate[\"raw_pvalue\"])\n",
        "    return bootstrap_estimate\n",
        "    #end def bootstrap_scms()"
      ],
      "outputs": [],
      "execution_count": 13,
      "metadata": {
        "gather": {
          "logged": 1661372276518
        },
        "jupyter": {
          "outputs_hidden": false,
          "source_hidden": false
        },
        "nteract": {
          "transient": {
            "deleting": false
          }
        }
      }
    },
    {
      "cell_type": "markdown",
      "source": [
        "# 3.1 define a not so good DAG so you can see how this appraoch highlighs potencial improvments"
      ],
      "metadata": {}
    },
    {
      "cell_type": "code",
      "source": [
        "nxDAG = nx.DiGraph([('Winter_Ind'  , 'Rain_Ind_Cat'),\n",
        "                    ('Winter_Ind'  , 'Speed_KMpH'),\n",
        "                    ('Rain_Ind_Cat', 'Speed_KMpH'),\n",
        "                    ('Speed_KMpH'  , 'Fuel_Consumption_LpKM')])\n",
        "\n",
        "scm = gcm.StructuralCausalModel(nxDAG) \n",
        "\n",
        "scm.set_causal_mechanism('Winter_Ind'           , gcm.EmpiricalDistribution())\n",
        "# As Rain_ind_Cat is hot encoded automatically there is no need for an intercept. the effect of rain will be beta(rain=1) - beta(rain=0)\n",
        "scm.set_causal_mechanism('Rain_Ind_Cat'         , gcm.ClassifierFCM(gcm.ml.create_logistic_regression_classifier()))\n",
        "scm.set_causal_mechanism('Speed_KMpH'           , gcm.AdditiveNoiseModel(gcm.ml.create_linear_regressor(fit_intercept=False)))\n",
        "scm.set_causal_mechanism('Fuel_Consumption_LpKM', gcm.AdditiveNoiseModel(gcm.ml.create_linear_regressor()))\n",
        "\n",
        "gcm.fit(scm, df)\n",
        "\n",
        "def scm_parameters(scm):\n",
        "    return (\n",
        "        scm.causal_mechanism('Rain_Ind_Cat').classifier_model.sklearn_model.intercept_[0],\n",
        "        scm.causal_mechanism('Rain_Ind_Cat').classifier_model.sklearn_model.coef_[0][0],\n",
        "        scm.causal_mechanism('Speed_KMpH').prediction_model.sklearn_model.coef_[0],\n",
        "        (scm.causal_mechanism('Speed_KMpH').prediction_model.sklearn_model.coef_[1] - scm.causal_mechanism('Speed_KMpH').prediction_model.sklearn_model.coef_[0]),\n",
        "        scm.causal_mechanism('Speed_KMpH').prediction_model.sklearn_model.coef_[2],\n",
        "        scm.causal_mechanism('Fuel_Consumption_LpKM').prediction_model.sklearn_model.intercept_,\n",
        "        scm.causal_mechanism('Fuel_Consumption_LpKM').prediction_model.sklearn_model.coef_[0]\n",
        "        )\n",
        "display()\n",
        "display(\"scm_parameters\")\n",
        "display (scm_parameters(scm))\n",
        "display()\n",
        "scm_parameter_names = ['Rain_Ind~Intercept',\n",
        "                       'Rain_Ind~Winter_Ind',\n",
        "                       'Speed_KMpH~Intercept',\n",
        "                       'Speed_KMpH~Rain_Ind',\n",
        "                       'Speed_KMpH~Winter_Ind',\n",
        "                       'Fuel_Consumption_LpKM~Intercept',\n",
        "                       'Fuel_Consumption_LpKM~Speed_KMpH']\n",
        "bootstrap_estimate = bootstrap_scms(n_boot=2000, input_df = df, scm_parameters_func=scm_parameters, scm_parameter_names = scm_parameter_names)"
      ],
      "outputs": [
        {
          "output_type": "display_data",
          "data": {
            "text/plain": "'scm_parameters'"
          },
          "metadata": {}
        }
      ],
      "execution_count": 14,
      "metadata": {
        "gather": {
          "logged": 1661372325105
        },
        "jupyter": {
          "outputs_hidden": false,
          "source_hidden": false
        },
        "nteract": {
          "transient": {
            "deleting": false
          }
        }
      }
    },
    {
      "cell_type": "code",
      "source": [
        "bootstrap_estimate"
      ],
      "outputs": [
        {
          "output_type": "execute_result",
          "execution_count": 15,
          "data": {
            "text/plain": "                                edge  Estimate  p-value  \\\n0                 Rain_Ind~Intercept    0.1894      0.0   \n1                Rain_Ind~Winter_Ind    0.4633      0.0   \n2               Speed_KMpH~Intercept   59.9837      0.0   \n3                Speed_KMpH~Rain_Ind   -0.8533      0.0   \n4              Speed_KMpH~Winter_Ind   -0.0492      0.0   \n5    Fuel_Consumption_LpKM~Intercept   80.3249      0.0   \n6   Fuel_Consumption_LpKM~Speed_KMpH   -0.2484      0.0   \n7                         covariance    0.1772      0.0   \n8                         covariance    0.0486      0.0   \n9                         covariance   -0.0501      0.0   \n10                        covariance    0.0123      0.0   \n11                        covariance    0.1886      0.0   \n12                        covariance   -0.1631      0.0   \n13                        covariance    0.0407      1.0   \n14                        covariance    0.6467      0.0   \n15                        covariance   -0.1614      0.0   \n16                        covariance    0.9678      0.0   \n\n                     lval                   rval  op  raw_pvalue  \n0                Rain_Ind              Intercept   ~         0.0  \n1                Rain_Ind             Winter_Ind   ~         0.0  \n2              Speed_KMpH              Intercept   ~         0.0  \n3              Speed_KMpH               Rain_Ind   ~         0.0  \n4              Speed_KMpH             Winter_Ind   ~         0.0  \n5   Fuel_Consumption_LpKM              Intercept   ~         0.0  \n6   Fuel_Consumption_LpKM             Speed_KMpH   ~         0.0  \n7              Winter_Ind             Winter_Ind  ~~         0.0  \n8              Winter_Ind               Rain_Ind  ~~         0.0  \n9              Winter_Ind             Speed_KMpH  ~~         0.0  \n10             Winter_Ind  Fuel_Consumption_LpKM  ~~         0.0  \n11               Rain_Ind               Rain_Ind  ~~         0.0  \n12               Rain_Ind             Speed_KMpH  ~~         0.0  \n13               Rain_Ind  Fuel_Consumption_LpKM  ~~         1.0  \n14             Speed_KMpH             Speed_KMpH  ~~         0.0  \n15             Speed_KMpH  Fuel_Consumption_LpKM  ~~         0.0  \n16  Fuel_Consumption_LpKM  Fuel_Consumption_LpKM  ~~         0.0  ",
            "text/html": "<div>\n<style scoped>\n    .dataframe tbody tr th:only-of-type {\n        vertical-align: middle;\n    }\n\n    .dataframe tbody tr th {\n        vertical-align: top;\n    }\n\n    .dataframe thead th {\n        text-align: right;\n    }\n</style>\n<table border=\"1\" class=\"dataframe\">\n  <thead>\n    <tr style=\"text-align: right;\">\n      <th></th>\n      <th>edge</th>\n      <th>Estimate</th>\n      <th>p-value</th>\n      <th>lval</th>\n      <th>rval</th>\n      <th>op</th>\n      <th>raw_pvalue</th>\n    </tr>\n  </thead>\n  <tbody>\n    <tr>\n      <th>0</th>\n      <td>Rain_Ind~Intercept</td>\n      <td>0.1894</td>\n      <td>0.0</td>\n      <td>Rain_Ind</td>\n      <td>Intercept</td>\n      <td>~</td>\n      <td>0.0</td>\n    </tr>\n    <tr>\n      <th>1</th>\n      <td>Rain_Ind~Winter_Ind</td>\n      <td>0.4633</td>\n      <td>0.0</td>\n      <td>Rain_Ind</td>\n      <td>Winter_Ind</td>\n      <td>~</td>\n      <td>0.0</td>\n    </tr>\n    <tr>\n      <th>2</th>\n      <td>Speed_KMpH~Intercept</td>\n      <td>59.9837</td>\n      <td>0.0</td>\n      <td>Speed_KMpH</td>\n      <td>Intercept</td>\n      <td>~</td>\n      <td>0.0</td>\n    </tr>\n    <tr>\n      <th>3</th>\n      <td>Speed_KMpH~Rain_Ind</td>\n      <td>-0.8533</td>\n      <td>0.0</td>\n      <td>Speed_KMpH</td>\n      <td>Rain_Ind</td>\n      <td>~</td>\n      <td>0.0</td>\n    </tr>\n    <tr>\n      <th>4</th>\n      <td>Speed_KMpH~Winter_Ind</td>\n      <td>-0.0492</td>\n      <td>0.0</td>\n      <td>Speed_KMpH</td>\n      <td>Winter_Ind</td>\n      <td>~</td>\n      <td>0.0</td>\n    </tr>\n    <tr>\n      <th>5</th>\n      <td>Fuel_Consumption_LpKM~Intercept</td>\n      <td>80.3249</td>\n      <td>0.0</td>\n      <td>Fuel_Consumption_LpKM</td>\n      <td>Intercept</td>\n      <td>~</td>\n      <td>0.0</td>\n    </tr>\n    <tr>\n      <th>6</th>\n      <td>Fuel_Consumption_LpKM~Speed_KMpH</td>\n      <td>-0.2484</td>\n      <td>0.0</td>\n      <td>Fuel_Consumption_LpKM</td>\n      <td>Speed_KMpH</td>\n      <td>~</td>\n      <td>0.0</td>\n    </tr>\n    <tr>\n      <th>7</th>\n      <td>covariance</td>\n      <td>0.1772</td>\n      <td>0.0</td>\n      <td>Winter_Ind</td>\n      <td>Winter_Ind</td>\n      <td>~~</td>\n      <td>0.0</td>\n    </tr>\n    <tr>\n      <th>8</th>\n      <td>covariance</td>\n      <td>0.0486</td>\n      <td>0.0</td>\n      <td>Winter_Ind</td>\n      <td>Rain_Ind</td>\n      <td>~~</td>\n      <td>0.0</td>\n    </tr>\n    <tr>\n      <th>9</th>\n      <td>covariance</td>\n      <td>-0.0501</td>\n      <td>0.0</td>\n      <td>Winter_Ind</td>\n      <td>Speed_KMpH</td>\n      <td>~~</td>\n      <td>0.0</td>\n    </tr>\n    <tr>\n      <th>10</th>\n      <td>covariance</td>\n      <td>0.0123</td>\n      <td>0.0</td>\n      <td>Winter_Ind</td>\n      <td>Fuel_Consumption_LpKM</td>\n      <td>~~</td>\n      <td>0.0</td>\n    </tr>\n    <tr>\n      <th>11</th>\n      <td>covariance</td>\n      <td>0.1886</td>\n      <td>0.0</td>\n      <td>Rain_Ind</td>\n      <td>Rain_Ind</td>\n      <td>~~</td>\n      <td>0.0</td>\n    </tr>\n    <tr>\n      <th>12</th>\n      <td>covariance</td>\n      <td>-0.1631</td>\n      <td>0.0</td>\n      <td>Rain_Ind</td>\n      <td>Speed_KMpH</td>\n      <td>~~</td>\n      <td>0.0</td>\n    </tr>\n    <tr>\n      <th>13</th>\n      <td>covariance</td>\n      <td>0.0407</td>\n      <td>1.0</td>\n      <td>Rain_Ind</td>\n      <td>Fuel_Consumption_LpKM</td>\n      <td>~~</td>\n      <td>1.0</td>\n    </tr>\n    <tr>\n      <th>14</th>\n      <td>covariance</td>\n      <td>0.6467</td>\n      <td>0.0</td>\n      <td>Speed_KMpH</td>\n      <td>Speed_KMpH</td>\n      <td>~~</td>\n      <td>0.0</td>\n    </tr>\n    <tr>\n      <th>15</th>\n      <td>covariance</td>\n      <td>-0.1614</td>\n      <td>0.0</td>\n      <td>Speed_KMpH</td>\n      <td>Fuel_Consumption_LpKM</td>\n      <td>~~</td>\n      <td>0.0</td>\n    </tr>\n    <tr>\n      <th>16</th>\n      <td>covariance</td>\n      <td>0.9678</td>\n      <td>0.0</td>\n      <td>Fuel_Consumption_LpKM</td>\n      <td>Fuel_Consumption_LpKM</td>\n      <td>~~</td>\n      <td>0.0</td>\n    </tr>\n  </tbody>\n</table>\n</div>"
          },
          "metadata": {}
        }
      ],
      "execution_count": 15,
      "metadata": {
        "gather": {
          "logged": 1661372325240
        },
        "jupyter": {
          "outputs_hidden": false,
          "source_hidden": false
        },
        "nteract": {
          "transient": {
            "deleting": false
          }
        }
      }
    },
    {
      "cell_type": "code",
      "source": [
        "scm_results_plot(df.columns, bootstrap_estimate, 'model_estimates_01')"
      ],
      "outputs": [
        {
          "output_type": "execute_result",
          "execution_count": 16,
          "data": {
            "text/plain": "<graphviz.dot.Digraph at 0x7f47f16cd880>",
            "image/svg+xml": "<?xml version=\"1.0\" encoding=\"UTF-8\" standalone=\"no\"?>\n<!DOCTYPE svg PUBLIC \"-//W3C//DTD SVG 1.1//EN\"\n \"http://www.w3.org/Graphics/SVG/1.1/DTD/svg11.dtd\">\n<!-- Generated by graphviz version 2.40.1 (20161225.0304)\n -->\n<!-- Title: model_estimates_01 Pages: 1 -->\n<svg width=\"568pt\" height=\"350pt\"\n viewBox=\"0.00 0.00 567.72 350.00\" xmlns=\"http://www.w3.org/2000/svg\" xmlns:xlink=\"http://www.w3.org/1999/xlink\">\n<g id=\"graph0\" class=\"graph\" transform=\"scale(1 1) rotate(0) translate(4 346)\">\n<title>model_estimates_01</title>\n<polygon fill=\"#ffffff\" stroke=\"transparent\" points=\"-4,4 -4,-346 563.7182,-346 563.7182,4 -4,4\"/>\n<!-- Winter_Ind -->\n<g id=\"node1\" class=\"node\">\n<title>Winter_Ind</title>\n<polygon fill=\"#ffffff\" stroke=\"#000000\" points=\"102.1874,-342 -.1878,-310.5 204.5627,-310.5 102.1874,-342\"/>\n<text text-anchor=\"middle\" x=\"102.1874\" y=\"-317.9\" font-family=\"Times,serif\" font-size=\"12.00\" fill=\"#000000\">Winter_Ind</text>\n</g>\n<!-- Rain_Ind -->\n<g id=\"node3\" class=\"node\">\n<title>Rain_Ind</title>\n<polygon fill=\"#ffffff\" stroke=\"#000000\" points=\"304.1874,-238 234.1874,-238 234.1874,-202 304.1874,-202 304.1874,-238\"/>\n<text text-anchor=\"middle\" x=\"269.1874\" y=\"-216.9\" font-family=\"Times,serif\" font-size=\"12.00\" fill=\"#000000\">Rain_Ind</text>\n</g>\n<!-- Winter_Ind&#45;&gt;Rain_Ind -->\n<g id=\"edge2\" class=\"edge\">\n<title>Winter_Ind&#45;&gt;Rain_Ind</title>\n<path fill=\"none\" stroke=\"#000000\" d=\"M108.1936,-310.029C116.7257,-295.4794 133.73,-270.0107 155.1874,-256 180.2868,-239.6113 191.6502,-247.1758 220.1874,-238 221.5895,-237.5492 223.0109,-237.0831 224.4437,-236.6055\"/>\n<polygon fill=\"#000000\" stroke=\"#000000\" points=\"225.6605,-239.8883 233.9781,-233.3256 223.3834,-233.269 225.6605,-239.8883\"/>\n<text text-anchor=\"middle\" x=\"212.1874\" y=\"-272.4\" font-family=\"Times,serif\" font-size=\"12.00\" fill=\"#000000\">p&#45;value = &#160;&#160;&#160;0.0000</text>\n<text text-anchor=\"middle\" x=\"212.1874\" y=\"-259.4\" font-family=\"Times,serif\" font-size=\"12.00\" fill=\"#000000\"> Est. = &#160;&#160;&#160;&#160;&#160;0.46</text>\n</g>\n<!-- Speed_KMpH -->\n<g id=\"node4\" class=\"node\">\n<title>Speed_KMpH</title>\n<polygon fill=\"#ffffff\" stroke=\"#000000\" points=\"311.1874,-140 213.1874,-140 213.1874,-104 311.1874,-104 311.1874,-140\"/>\n<text text-anchor=\"middle\" x=\"262.1874\" y=\"-118.9\" font-family=\"Times,serif\" font-size=\"12.00\" fill=\"#000000\">Speed_KMpH</text>\n</g>\n<!-- Winter_Ind&#45;&gt;Speed_KMpH -->\n<g id=\"edge5\" class=\"edge\">\n<title>Winter_Ind&#45;&gt;Speed_KMpH</title>\n<path fill=\"none\" stroke=\"#000000\" d=\"M99.8394,-310.393C95.5548,-288.2108 88.8351,-236.1513 111.1874,-202 132.2592,-169.8053 170.7376,-149.6983 203.5765,-137.6945\"/>\n<polygon fill=\"#000000\" stroke=\"#000000\" points=\"204.8218,-140.9671 213.1144,-134.3728 202.5195,-134.3565 204.8218,-140.9671\"/>\n<text text-anchor=\"middle\" x=\"168.1874\" y=\"-223.4\" font-family=\"Times,serif\" font-size=\"12.00\" fill=\"#000000\">p&#45;value = &#160;&#160;&#160;0.0000</text>\n<text text-anchor=\"middle\" x=\"168.1874\" y=\"-210.4\" font-family=\"Times,serif\" font-size=\"12.00\" fill=\"#000000\"> Est. = &#160;&#160;&#160;&#160;&#45;0.05</text>\n</g>\n<!-- Fuel_Consumption_LpKM -->\n<g id=\"node2\" class=\"node\">\n<title>Fuel_Consumption_LpKM</title>\n<polygon fill=\"#ffffff\" stroke=\"#000000\" points=\"349.1874,0 559.749,-31.5 138.6259,-31.5 349.1874,0\"/>\n<text text-anchor=\"middle\" x=\"349.1874\" y=\"-17.9\" font-family=\"Times,serif\" font-size=\"12.00\" fill=\"#000000\">Fuel_Consumption_LpKM</text>\n</g>\n<!-- Rain_Ind&#45;&gt;Speed_KMpH -->\n<g id=\"edge4\" class=\"edge\">\n<title>Rain_Ind&#45;&gt;Speed_KMpH</title>\n<path fill=\"none\" stroke=\"#000000\" d=\"M265.6048,-201.7541C264.6384,-196.0876 263.7151,-189.8054 263.1874,-184 262.1967,-173.0988 261.8352,-161.0763 261.7594,-150.543\"/>\n<polygon fill=\"#000000\" stroke=\"#000000\" points=\"265.2596,-150.218 261.7694,-140.2146 258.2596,-150.2111 265.2596,-150.218\"/>\n<text text-anchor=\"middle\" x=\"320.1874\" y=\"-174.4\" font-family=\"Times,serif\" font-size=\"12.00\" fill=\"#000000\">p&#45;value = &#160;&#160;&#160;0.0000</text>\n<text text-anchor=\"middle\" x=\"320.1874\" y=\"-161.4\" font-family=\"Times,serif\" font-size=\"12.00\" fill=\"#000000\"> Est. = &#160;&#160;&#160;&#160;&#45;0.85</text>\n</g>\n<!-- Speed_KMpH&#45;&gt;Fuel_Consumption_LpKM -->\n<g id=\"edge7\" class=\"edge\">\n<title>Speed_KMpH&#45;&gt;Fuel_Consumption_LpKM</title>\n<path fill=\"none\" stroke=\"#000000\" d=\"M264.1542,-103.7784C266.3919,-90.4527 271.1434,-72.5814 281.1874,-60 289.1476,-50.0289 300.3971,-42.1305 311.4591,-36.124\"/>\n<polygon fill=\"#000000\" stroke=\"#000000\" points=\"313.2642,-39.1342 320.6309,-31.5196 310.1235,-32.8783 313.2642,-39.1342\"/>\n<text text-anchor=\"middle\" x=\"338.1874\" y=\"-76.4\" font-family=\"Times,serif\" font-size=\"12.00\" fill=\"#000000\">p&#45;value = &#160;&#160;&#160;0.0000</text>\n<text text-anchor=\"middle\" x=\"338.1874\" y=\"-63.4\" font-family=\"Times,serif\" font-size=\"12.00\" fill=\"#000000\"> Est. = &#160;&#160;&#160;&#160;&#45;0.25</text>\n</g>\n<!-- Rain_Ind Intercept -->\n<g id=\"node5\" class=\"node\">\n<title>Rain_Ind Intercept</title>\n<polygon fill=\"#ffffff\" stroke=\"transparent\" points=\"334.1874,-327.5 222.1874,-327.5 222.1874,-314.5 334.1874,-314.5 334.1874,-327.5\"/>\n<text text-anchor=\"middle\" x=\"278.1874\" y=\"-317.9\" font-family=\"Times,serif\" font-size=\"12.00\" fill=\"#000000\">Rain_Ind Intercept</text>\n</g>\n<!-- Rain_Ind Intercept&#45;&gt;Rain_Ind -->\n<g id=\"edge1\" class=\"edge\">\n<title>Rain_Ind Intercept&#45;&gt;Rain_Ind</title>\n<path fill=\"none\" stroke=\"#000000\" d=\"M277.5969,-314.3731C276.4221,-301.1887 273.7307,-270.9849 271.7069,-248.2736\"/>\n<polygon fill=\"#000000\" stroke=\"#000000\" points=\"275.1781,-247.7941 270.8043,-238.1442 268.2057,-248.4155 275.1781,-247.7941\"/>\n<text text-anchor=\"middle\" x=\"331.1874\" y=\"-272.4\" font-family=\"Times,serif\" font-size=\"12.00\" fill=\"#000000\">p&#45;value = &#160;&#160;&#160;0.0000</text>\n<text text-anchor=\"middle\" x=\"331.1874\" y=\"-259.4\" font-family=\"Times,serif\" font-size=\"12.00\" fill=\"#000000\"> Est. = &#160;&#160;&#160;&#160;&#160;0.19</text>\n</g>\n<!-- Speed_KMpH Intercept -->\n<g id=\"node6\" class=\"node\">\n<title>Speed_KMpH Intercept</title>\n<polygon fill=\"#ffffff\" stroke=\"transparent\" points=\"469.6874,-226.5 328.6874,-226.5 328.6874,-213.5 469.6874,-213.5 469.6874,-226.5\"/>\n<text text-anchor=\"middle\" x=\"399.1874\" y=\"-216.9\" font-family=\"Times,serif\" font-size=\"12.00\" fill=\"#000000\">Speed_KMpH Intercept</text>\n</g>\n<!-- Speed_KMpH Intercept&#45;&gt;Speed_KMpH -->\n<g id=\"edge3\" class=\"edge\">\n<title>Speed_KMpH Intercept&#45;&gt;Speed_KMpH</title>\n<path fill=\"none\" stroke=\"#000000\" d=\"M398.7115,-213.1648C397.46,-200.481 392.9825,-173.212 377.1874,-158 376.8926,-157.716 349.3652,-149.0946 321.3199,-140.361\"/>\n<polygon fill=\"#000000\" stroke=\"#000000\" points=\"322.0105,-136.9104 311.4222,-137.2806 319.9303,-143.5942 322.0105,-136.9104\"/>\n<text text-anchor=\"middle\" x=\"449.1874\" y=\"-174.4\" font-family=\"Times,serif\" font-size=\"12.00\" fill=\"#000000\">p&#45;value = &#160;&#160;&#160;0.0000</text>\n<text text-anchor=\"middle\" x=\"449.1874\" y=\"-161.4\" font-family=\"Times,serif\" font-size=\"12.00\" fill=\"#000000\"> Est. = &#160;&#160;&#160;&#160;59.98</text>\n</g>\n<!-- Fuel_Consumption_LpKM Intercept -->\n<g id=\"node7\" class=\"node\">\n<title>Fuel_Consumption_LpKM Intercept</title>\n<polygon fill=\"#ffffff\" stroke=\"transparent\" points=\"543.1874,-128.5 329.1874,-128.5 329.1874,-115.5 543.1874,-115.5 543.1874,-128.5\"/>\n<text text-anchor=\"middle\" x=\"436.1874\" y=\"-118.9\" font-family=\"Times,serif\" font-size=\"12.00\" fill=\"#000000\">Fuel_Consumption_LpKM Intercept</text>\n</g>\n<!-- Fuel_Consumption_LpKM Intercept&#45;&gt;Fuel_Consumption_LpKM -->\n<g id=\"edge6\" class=\"edge\">\n<title>Fuel_Consumption_LpKM Intercept&#45;&gt;Fuel_Consumption_LpKM</title>\n<path fill=\"none\" stroke=\"#000000\" d=\"M433.2205,-115.3222C427.6956,-103.3586 414.9489,-77.8548 399.1874,-60 391.8654,-51.7055 382.5864,-43.9129 374.0155,-37.5064\"/>\n<polygon fill=\"#000000\" stroke=\"#000000\" points=\"375.9441,-34.5825 365.7792,-31.5948 371.8623,-40.2693 375.9441,-34.5825\"/>\n<text text-anchor=\"middle\" x=\"474.1874\" y=\"-76.4\" font-family=\"Times,serif\" font-size=\"12.00\" fill=\"#000000\">p&#45;value = &#160;&#160;&#160;0.0000</text>\n<text text-anchor=\"middle\" x=\"474.1874\" y=\"-63.4\" font-family=\"Times,serif\" font-size=\"12.00\" fill=\"#000000\"> Est. = &#160;&#160;&#160;&#160;80.32</text>\n</g>\n</g>\n</svg>\n"
          },
          "metadata": {}
        }
      ],
      "execution_count": 16,
      "metadata": {
        "gather": {
          "logged": 1661372325640
        },
        "jupyter": {
          "outputs_hidden": false,
          "source_hidden": false
        },
        "nteract": {
          "transient": {
            "deleting": false
          }
        }
      }
    },
    {
      "cell_type": "code",
      "source": [
        "scm_induced_covariances_plot(df.columns, bootstrap_estimate, 'scm_induced_covariances_01')"
      ],
      "outputs": [
        {
          "output_type": "execute_result",
          "execution_count": 17,
          "data": {
            "text/plain": "<graphviz.dot.Digraph at 0x7f47f16c0f10>",
            "image/svg+xml": "<?xml version=\"1.0\" encoding=\"UTF-8\" standalone=\"no\"?>\n<!DOCTYPE svg PUBLIC \"-//W3C//DTD SVG 1.1//EN\"\n \"http://www.w3.org/Graphics/SVG/1.1/DTD/svg11.dtd\">\n<!-- Generated by graphviz version 2.40.1 (20161225.0304)\n -->\n<!-- Title: scm_induced_covariances_01 Pages: 1 -->\n<svg width=\"581pt\" height=\"350pt\"\n viewBox=\"0.00 0.00 580.53 350.00\" xmlns=\"http://www.w3.org/2000/svg\" xmlns:xlink=\"http://www.w3.org/1999/xlink\">\n<g id=\"graph0\" class=\"graph\" transform=\"scale(1 1) rotate(0) translate(4 346)\">\n<title>scm_induced_covariances_01</title>\n<polygon fill=\"#ffffff\" stroke=\"transparent\" points=\"-4,4 -4,-346 576.5308,-346 576.5308,4 -4,4\"/>\n<!-- Fuel_Consumption_LpKM -->\n<g id=\"node1\" class=\"node\">\n<title>Fuel_Consumption_LpKM</title>\n<polygon fill=\"#ffffff\" stroke=\"#000000\" points=\"210.5308,-342 -.0308,-310.5 421.0923,-310.5 210.5308,-342\"/>\n<text text-anchor=\"middle\" x=\"210.5308\" y=\"-317.9\" font-family=\"Times,serif\" font-size=\"12.00\" fill=\"#000000\">Fuel_Consumption_LpKM</text>\n</g>\n<!-- Fuel_Consumption_LpKM&#45;&gt;Fuel_Consumption_LpKM -->\n<g id=\"edge10\" class=\"edge\">\n<title>Fuel_Consumption_LpKM&#45;&gt;Fuel_Consumption_LpKM</title>\n<path fill=\"none\" stroke=\"#000000\" d=\"M305.8183,-329.7578C372.7959,-332.4928 439.0615,-329.5736 439.0615,-321 439.0615,-317.8549 430.1444,-315.4707 415.546,-313.8474\"/>\n<polygon fill=\"#000000\" stroke=\"#000000\" points=\"305.6546,-326.2469 295.5068,-329.2919 305.3386,-333.2398 305.6546,-326.2469\"/>\n<polygon fill=\"#000000\" stroke=\"#000000\" points=\"415.4483,-310.3237 405.1691,-312.8902 414.8053,-317.2941 415.4483,-310.3237\"/>\n<text text-anchor=\"middle\" x=\"496.0615\" y=\"-324.4\" font-family=\"Times,serif\" font-size=\"12.00\" fill=\"#000000\">p&#45;value = &#160;&#160;&#160;0.0000</text>\n<text text-anchor=\"middle\" x=\"496.0615\" y=\"-311.4\" font-family=\"Times,serif\" font-size=\"12.00\" fill=\"#000000\"> Est. = &#160;&#160;&#160;&#160;&#160;0.97</text>\n</g>\n<!-- Winter_Ind -->\n<g id=\"node2\" class=\"node\">\n<title>Winter_Ind</title>\n<polygon fill=\"#ffffff\" stroke=\"#000000\" points=\"199.5308,0 301.906,-31.5 97.1555,-31.5 199.5308,0\"/>\n<text text-anchor=\"middle\" x=\"199.5308\" y=\"-17.9\" font-family=\"Times,serif\" font-size=\"12.00\" fill=\"#000000\">Winter_Ind</text>\n</g>\n<!-- Fuel_Consumption_LpKM&#45;&gt;Winter_Ind -->\n<g id=\"edge4\" class=\"edge\">\n<title>Fuel_Consumption_LpKM&#45;&gt;Winter_Ind</title>\n<path fill=\"none\" stroke=\"#000000\" d=\"M186.7102,-304.2581C156.2647,-281.2333 105.0457,-236.6114 84.5308,-184 61.0288,-123.7283 133.051,-64.63 173.7089,-37.082\"/>\n<polygon fill=\"#000000\" stroke=\"#000000\" points=\"184.9463,-307.3064 195.0695,-310.4321 189.1051,-301.6757 184.9463,-307.3064\"/>\n<polygon fill=\"#000000\" stroke=\"#000000\" points=\"175.686,-39.9707 182.1021,-31.5396 171.8286,-34.1294 175.686,-39.9707\"/>\n<text text-anchor=\"middle\" x=\"141.5308\" y=\"-174.4\" font-family=\"Times,serif\" font-size=\"12.00\" fill=\"#000000\">p&#45;value = &#160;&#160;&#160;0.0000</text>\n<text text-anchor=\"middle\" x=\"141.5308\" y=\"-161.4\" font-family=\"Times,serif\" font-size=\"12.00\" fill=\"#000000\"> Est. = &#160;&#160;&#160;&#160;&#160;0.01</text>\n</g>\n<!-- Rain_Ind -->\n<g id=\"node3\" class=\"node\">\n<title>Rain_Ind</title>\n<polygon fill=\"#ffffff\" stroke=\"#000000\" points=\"234.5308,-140 164.5308,-140 164.5308,-104 234.5308,-104 234.5308,-140\"/>\n<text text-anchor=\"middle\" x=\"199.5308\" y=\"-118.9\" font-family=\"Times,serif\" font-size=\"12.00\" fill=\"#000000\">Rain_Ind</text>\n</g>\n<!-- Fuel_Consumption_LpKM&#45;&gt;Rain_Ind -->\n<g id=\"edge7\" class=\"edge\">\n<title>Fuel_Consumption_LpKM&#45;&gt;Rain_Ind</title>\n<path fill=\"none\" stroke=\"#ffb414\" d=\"M209.3752,-300.0942C207.3876,-264.1374 203.3205,-190.5607 201.0862,-150.1401\"/>\n<polygon fill=\"#ffb414\" stroke=\"#ffb414\" points=\"205.8927,-300.5093 209.9394,-310.3009 212.882,-300.1229 205.8927,-300.5093\"/>\n<polygon fill=\"#ffb414\" stroke=\"#ffb414\" points=\"204.5806,-149.9403 200.534,-140.1488 197.5913,-150.3267 204.5806,-149.9403\"/>\n<text text-anchor=\"middle\" x=\"263.5308\" y=\"-223.4\" font-family=\"Times,serif\" font-size=\"12.00\" fill=\"#000000\">p&#45;value = &#160;&#160;&#160;1.0000</text>\n<text text-anchor=\"middle\" x=\"263.5308\" y=\"-210.4\" font-family=\"Times,serif\" font-size=\"12.00\" fill=\"#000000\"> Est. = &#160;&#160;&#160;&#160;&#160;0.04</text>\n</g>\n<!-- Speed_KMpH -->\n<g id=\"node4\" class=\"node\">\n<title>Speed_KMpH</title>\n<polygon fill=\"#ffffff\" stroke=\"#000000\" points=\"440.5308,-238 342.5308,-238 342.5308,-202 440.5308,-202 440.5308,-238\"/>\n<text text-anchor=\"middle\" x=\"391.5308\" y=\"-216.9\" font-family=\"Times,serif\" font-size=\"12.00\" fill=\"#000000\">Speed_KMpH</text>\n</g>\n<!-- Fuel_Consumption_LpKM&#45;&gt;Speed_KMpH -->\n<g id=\"edge9\" class=\"edge\">\n<title>Fuel_Consumption_LpKM&#45;&gt;Speed_KMpH</title>\n<path fill=\"none\" stroke=\"#000000\" d=\"M238.546,-305.3672C268.4352,-288.6887 316.0896,-262.097 350.2708,-243.0235\"/>\n<polygon fill=\"#000000\" stroke=\"#000000\" points=\"236.5858,-302.4529 229.5588,-310.3821 239.9968,-308.5656 236.5858,-302.4529\"/>\n<polygon fill=\"#000000\" stroke=\"#000000\" points=\"352.0622,-246.032 359.0892,-238.1028 348.6512,-239.9193 352.0622,-246.032\"/>\n<text text-anchor=\"middle\" x=\"379.5308\" y=\"-272.4\" font-family=\"Times,serif\" font-size=\"12.00\" fill=\"#000000\">p&#45;value = &#160;&#160;&#160;0.0000</text>\n<text text-anchor=\"middle\" x=\"379.5308\" y=\"-259.4\" font-family=\"Times,serif\" font-size=\"12.00\" fill=\"#000000\"> Est. = &#160;&#160;&#160;&#160;&#45;0.16</text>\n</g>\n<!-- Winter_Ind&#45;&gt;Winter_Ind -->\n<g id=\"edge1\" class=\"edge\">\n<title>Winter_Ind&#45;&gt;Winter_Ind</title>\n<path fill=\"none\" stroke=\"#000000\" d=\"M305.7793,-28.1793C314.3837,-26.6184 319.7182,-24.2253 319.7182,-21 319.7182,-13.0006 286.9038,-10.1204 252.7745,-12.3595\"/>\n<polygon fill=\"#000000\" stroke=\"#000000\" points=\"305.1729,-24.7289 295.7155,-29.5047 306.0869,-31.669 305.1729,-24.7289\"/>\n<polygon fill=\"#000000\" stroke=\"#000000\" points=\"252.3469,-8.8825 242.6594,-13.1722 252.9076,-15.86 252.3469,-8.8825\"/>\n<text text-anchor=\"middle\" x=\"376.7182\" y=\"-24.4\" font-family=\"Times,serif\" font-size=\"12.00\" fill=\"#000000\">p&#45;value = &#160;&#160;&#160;0.0000</text>\n<text text-anchor=\"middle\" x=\"376.7182\" y=\"-11.4\" font-family=\"Times,serif\" font-size=\"12.00\" fill=\"#000000\"> Est. = &#160;&#160;&#160;&#160;&#160;0.18</text>\n</g>\n<!-- Rain_Ind&#45;&gt;Winter_Ind -->\n<g id=\"edge2\" class=\"edge\">\n<title>Rain_Ind&#45;&gt;Winter_Ind</title>\n<path fill=\"none\" stroke=\"#000000\" d=\"M199.5308,-93.834C199.5308,-77.4185 199.5308,-57.0604 199.5308,-42.0443\"/>\n<polygon fill=\"#000000\" stroke=\"#000000\" points=\"196.0309,-93.9432 199.5308,-103.9432 203.0309,-93.9433 196.0309,-93.9432\"/>\n<polygon fill=\"#000000\" stroke=\"#000000\" points=\"203.0309,-41.7564 199.5308,-31.7564 196.0309,-41.7565 203.0309,-41.7564\"/>\n<text text-anchor=\"middle\" x=\"256.5308\" y=\"-76.4\" font-family=\"Times,serif\" font-size=\"12.00\" fill=\"#000000\">p&#45;value = &#160;&#160;&#160;0.0000</text>\n<text text-anchor=\"middle\" x=\"256.5308\" y=\"-63.4\" font-family=\"Times,serif\" font-size=\"12.00\" fill=\"#000000\"> Est. = &#160;&#160;&#160;&#160;&#160;0.05</text>\n</g>\n<!-- Rain_Ind&#45;&gt;Rain_Ind -->\n<g id=\"edge5\" class=\"edge\">\n<title>Rain_Ind&#45;&gt;Rain_Ind</title>\n<path fill=\"none\" stroke=\"#000000\" d=\"M244.7654,-129.457C249.4981,-128.0013 252.5308,-125.5156 252.5308,-122 252.5308,-118.4844 249.4981,-115.9987 244.7654,-114.543\"/>\n<polygon fill=\"#000000\" stroke=\"#000000\" points=\"244.0698,-126.022 234.6986,-130.9648 245.1067,-132.9448 244.0698,-126.022\"/>\n<polygon fill=\"#000000\" stroke=\"#000000\" points=\"245.1067,-111.0552 234.6986,-113.0352 244.0698,-117.978 245.1067,-111.0552\"/>\n<text text-anchor=\"middle\" x=\"309.5308\" y=\"-125.4\" font-family=\"Times,serif\" font-size=\"12.00\" fill=\"#000000\">p&#45;value = &#160;&#160;&#160;0.0000</text>\n<text text-anchor=\"middle\" x=\"309.5308\" y=\"-112.4\" font-family=\"Times,serif\" font-size=\"12.00\" fill=\"#000000\"> Est. = &#160;&#160;&#160;&#160;&#160;0.19</text>\n</g>\n<!-- Speed_KMpH&#45;&gt;Winter_Ind -->\n<g id=\"edge3\" class=\"edge\">\n<title>Speed_KMpH&#45;&gt;Winter_Ind</title>\n<path fill=\"none\" stroke=\"#000000\" d=\"M394.1054,-191.5727C394.9517,-166.5323 392.586,-130.0873 375.5308,-104 351.1607,-66.724 305.2184,-45.8292 266.3836,-34.3291\"/>\n<polygon fill=\"#000000\" stroke=\"#000000\" points=\"390.5939,-191.6971 393.5559,-201.8695 397.5839,-192.0702 390.5939,-191.6971\"/>\n<polygon fill=\"#000000\" stroke=\"#000000\" points=\"267.2549,-30.9384 256.6809,-31.6035 265.3617,-37.6776 267.2549,-30.9384\"/>\n<text text-anchor=\"middle\" x=\"446.5308\" y=\"-125.4\" font-family=\"Times,serif\" font-size=\"12.00\" fill=\"#000000\">p&#45;value = &#160;&#160;&#160;0.0000</text>\n<text text-anchor=\"middle\" x=\"446.5308\" y=\"-112.4\" font-family=\"Times,serif\" font-size=\"12.00\" fill=\"#000000\"> Est. = &#160;&#160;&#160;&#160;&#45;0.05</text>\n</g>\n<!-- Speed_KMpH&#45;&gt;Rain_Ind -->\n<g id=\"edge6\" class=\"edge\">\n<title>Speed_KMpH&#45;&gt;Rain_Ind</title>\n<path fill=\"none\" stroke=\"#000000\" d=\"M332.7482,-203.009C306.4968,-195.2179 280.174,-187.0438 274.5308,-184 256.3837,-174.212 238.4932,-159.665 224.7392,-147.1214\"/>\n<polygon fill=\"#000000\" stroke=\"#000000\" points=\"331.7963,-206.3772 342.3781,-205.8518 333.7783,-199.6637 331.7963,-206.3772\"/>\n<polygon fill=\"#000000\" stroke=\"#000000\" points=\"226.8417,-144.2954 217.1485,-140.0185 222.0589,-149.4067 226.8417,-144.2954\"/>\n<text text-anchor=\"middle\" x=\"331.5308\" y=\"-174.4\" font-family=\"Times,serif\" font-size=\"12.00\" fill=\"#000000\">p&#45;value = &#160;&#160;&#160;0.0000</text>\n<text text-anchor=\"middle\" x=\"331.5308\" y=\"-161.4\" font-family=\"Times,serif\" font-size=\"12.00\" fill=\"#000000\"> Est. = &#160;&#160;&#160;&#160;&#45;0.16</text>\n</g>\n<!-- Speed_KMpH&#45;&gt;Speed_KMpH -->\n<g id=\"edge8\" class=\"edge\">\n<title>Speed_KMpH&#45;&gt;Speed_KMpH</title>\n<path fill=\"none\" stroke=\"#000000\" d=\"M450.4947,-226.9738C455.4469,-225.4777 458.5308,-223.1531 458.5308,-220 458.5308,-216.8469 455.4469,-214.5223 450.4947,-213.0262\"/>\n<polygon fill=\"#000000\" stroke=\"#000000\" points=\"449.8551,-223.5324 440.6112,-228.7094 451.0659,-230.4269 449.8551,-223.5324\"/>\n<polygon fill=\"#000000\" stroke=\"#000000\" points=\"451.0659,-209.5731 440.6112,-211.2906 449.8551,-216.4676 451.0659,-209.5731\"/>\n<text text-anchor=\"middle\" x=\"515.5308\" y=\"-223.4\" font-family=\"Times,serif\" font-size=\"12.00\" fill=\"#000000\">p&#45;value = &#160;&#160;&#160;0.0000</text>\n<text text-anchor=\"middle\" x=\"515.5308\" y=\"-210.4\" font-family=\"Times,serif\" font-size=\"12.00\" fill=\"#000000\"> Est. = &#160;&#160;&#160;&#160;&#160;0.65</text>\n</g>\n</g>\n</svg>\n"
          },
          "metadata": {}
        }
      ],
      "execution_count": 17,
      "metadata": {
        "gather": {
          "logged": 1661372326199
        },
        "jupyter": {
          "outputs_hidden": false,
          "source_hidden": false
        },
        "nteract": {
          "transient": {
            "deleting": false
          }
        }
      }
    },
    {
      "cell_type": "markdown",
      "source": [
        "# 3.2 Second attempt:\n",
        "##\n",
        "## the SCM looked ok but did not really get the observed covariace matrix.\n",
        "## remove Winter -> Speed (the estimate is low = 'practically insignificant')\n",
        "## add Rain -> Fuel (maybe this will sort out the covariance? + The expert thinks there could be a causal link here)"
      ],
      "metadata": {
        "nteract": {
          "transient": {
            "deleting": false
          }
        }
      }
    },
    {
      "cell_type": "code",
      "source": [
        "nxDAG = nx.DiGraph([('Winter_Ind'   , 'Rain_Ind_Cat'),\n",
        "                    ('Rain_Ind_Cat' , 'Speed_KMpH'),\n",
        "                    ('Rain_Ind_Cat' , 'Fuel_Consumption_LpKM'),\n",
        "                    ('Speed_KMpH'   , 'Fuel_Consumption_LpKM')])\n",
        "\n",
        "scm = gcm.StructuralCausalModel(nxDAG) \n",
        "\n",
        "scm.set_causal_mechanism('Winter_Ind'           , gcm.EmpiricalDistribution())\n",
        "# As Rain_ind_Cat is hot encoded automatically there is no need for an intercept. the effect of rain will be beta(rain=1) - beta(rain=0)\n",
        "scm.set_causal_mechanism('Rain_Ind_Cat'         , gcm.ClassifierFCM(gcm.ml.create_logistic_regression_classifier()))\n",
        "scm.set_causal_mechanism('Speed_KMpH'           , gcm.AdditiveNoiseModel(gcm.ml.create_linear_regressor(fit_intercept=False)))\n",
        "scm.set_causal_mechanism('Fuel_Consumption_LpKM', gcm.AdditiveNoiseModel(gcm.ml.create_linear_regressor(fit_intercept=False)))\n",
        "\n",
        "gcm.fit(scm, df)\n",
        "\n",
        "def scm_parameters(scm):\n",
        "    return (\n",
        "            scm.causal_mechanism('Rain_Ind_Cat').classifier_model.sklearn_model.intercept_[0],\n",
        "            scm.causal_mechanism('Rain_Ind_Cat').classifier_model.sklearn_model.coef_[0][0],\n",
        "            scm.causal_mechanism('Speed_KMpH').prediction_model.sklearn_model.coef_[0],\n",
        "            (scm.causal_mechanism('Speed_KMpH').prediction_model.sklearn_model.coef_[1] - scm.causal_mechanism('Speed_KMpH').prediction_model.sklearn_model.coef_[0]),\n",
        "\n",
        "            scm.causal_mechanism('Fuel_Consumption_LpKM').prediction_model.sklearn_model.coef_[0],\n",
        "            (scm.causal_mechanism('Fuel_Consumption_LpKM').prediction_model.sklearn_model.coef_[1] - scm.causal_mechanism('Fuel_Consumption_LpKM').prediction_model.sklearn_model.coef_[0]),\n",
        "            scm.causal_mechanism('Fuel_Consumption_LpKM').prediction_model.sklearn_model.coef_[2]\n",
        "            )\n",
        "display()\n",
        "display(\"scm_parameters\")\n",
        "display (scm_parameters(scm))\n",
        "display()\n",
        "scm_parameter_names = ['Rain_Ind~Intercept',\n",
        "                       'Rain_Ind~Winter_Ind',\n",
        "                       'Speed_KMpH~Intercept',\n",
        "                       'Speed_KMpH~Rain_Ind',\n",
        "                       'Fuel_Consumption_LpKM~Intercept',\n",
        "                       'Fuel_Consumption_LpKM~Rain_Ind',\n",
        "                       'Fuel_Consumption_LpKM~Speed_KMpH']\n",
        "bootstrap_estimate = bootstrap_scms(n_boot=2000, input_df = df, scm_parameters_func=scm_parameters, scm_parameter_names = scm_parameter_names)"
      ],
      "outputs": [
        {
          "output_type": "display_data",
          "data": {
            "text/plain": "'scm_parameters'"
          },
          "metadata": {}
        }
      ],
      "execution_count": 18,
      "metadata": {
        "gather": {
          "logged": 1661372383939
        },
        "jupyter": {
          "outputs_hidden": false,
          "source_hidden": false
        },
        "nteract": {
          "transient": {
            "deleting": false
          }
        }
      }
    },
    {
      "cell_type": "code",
      "source": [
        "bootstrap_estimate"
      ],
      "outputs": [
        {
          "output_type": "execute_result",
          "execution_count": 19,
          "data": {
            "text/plain": "                                edge  Estimate  p-value  \\\n0                 Rain_Ind~Intercept    0.1891      0.0   \n1                Rain_Ind~Winter_Ind    0.4622      0.0   \n2               Speed_KMpH~Intercept   59.9750      0.0   \n3                Speed_KMpH~Rain_Ind   -0.8660      0.0   \n4    Fuel_Consumption_LpKM~Intercept   47.7382      0.0   \n5     Fuel_Consumption_LpKM~Rain_Ind    2.1242      0.0   \n6   Fuel_Consumption_LpKM~Speed_KMpH    0.2879      0.0   \n7                         covariance    0.1770      0.0   \n8                         covariance    0.0483      0.0   \n9                         covariance   -0.0418      0.0   \n10                        covariance    0.0908      0.0   \n11                        covariance    0.1884      0.0   \n12                        covariance   -0.1630      0.0   \n13                        covariance    0.3534      0.0   \n14                        covariance    0.6459      0.0   \n15                        covariance   -0.1601      0.0   \n16                        covariance    0.9671      0.0   \n\n                     lval                   rval  op  raw_pvalue  \n0                Rain_Ind              Intercept   ~         0.0  \n1                Rain_Ind             Winter_Ind   ~         0.0  \n2              Speed_KMpH              Intercept   ~         0.0  \n3              Speed_KMpH               Rain_Ind   ~         0.0  \n4   Fuel_Consumption_LpKM              Intercept   ~         0.0  \n5   Fuel_Consumption_LpKM               Rain_Ind   ~         0.0  \n6   Fuel_Consumption_LpKM             Speed_KMpH   ~         0.0  \n7              Winter_Ind             Winter_Ind  ~~         0.0  \n8              Winter_Ind               Rain_Ind  ~~         0.0  \n9              Winter_Ind             Speed_KMpH  ~~         0.0  \n10             Winter_Ind  Fuel_Consumption_LpKM  ~~         0.0  \n11               Rain_Ind               Rain_Ind  ~~         0.0  \n12               Rain_Ind             Speed_KMpH  ~~         0.0  \n13               Rain_Ind  Fuel_Consumption_LpKM  ~~         0.0  \n14             Speed_KMpH             Speed_KMpH  ~~         0.0  \n15             Speed_KMpH  Fuel_Consumption_LpKM  ~~         0.0  \n16  Fuel_Consumption_LpKM  Fuel_Consumption_LpKM  ~~         0.0  ",
            "text/html": "<div>\n<style scoped>\n    .dataframe tbody tr th:only-of-type {\n        vertical-align: middle;\n    }\n\n    .dataframe tbody tr th {\n        vertical-align: top;\n    }\n\n    .dataframe thead th {\n        text-align: right;\n    }\n</style>\n<table border=\"1\" class=\"dataframe\">\n  <thead>\n    <tr style=\"text-align: right;\">\n      <th></th>\n      <th>edge</th>\n      <th>Estimate</th>\n      <th>p-value</th>\n      <th>lval</th>\n      <th>rval</th>\n      <th>op</th>\n      <th>raw_pvalue</th>\n    </tr>\n  </thead>\n  <tbody>\n    <tr>\n      <th>0</th>\n      <td>Rain_Ind~Intercept</td>\n      <td>0.1891</td>\n      <td>0.0</td>\n      <td>Rain_Ind</td>\n      <td>Intercept</td>\n      <td>~</td>\n      <td>0.0</td>\n    </tr>\n    <tr>\n      <th>1</th>\n      <td>Rain_Ind~Winter_Ind</td>\n      <td>0.4622</td>\n      <td>0.0</td>\n      <td>Rain_Ind</td>\n      <td>Winter_Ind</td>\n      <td>~</td>\n      <td>0.0</td>\n    </tr>\n    <tr>\n      <th>2</th>\n      <td>Speed_KMpH~Intercept</td>\n      <td>59.9750</td>\n      <td>0.0</td>\n      <td>Speed_KMpH</td>\n      <td>Intercept</td>\n      <td>~</td>\n      <td>0.0</td>\n    </tr>\n    <tr>\n      <th>3</th>\n      <td>Speed_KMpH~Rain_Ind</td>\n      <td>-0.8660</td>\n      <td>0.0</td>\n      <td>Speed_KMpH</td>\n      <td>Rain_Ind</td>\n      <td>~</td>\n      <td>0.0</td>\n    </tr>\n    <tr>\n      <th>4</th>\n      <td>Fuel_Consumption_LpKM~Intercept</td>\n      <td>47.7382</td>\n      <td>0.0</td>\n      <td>Fuel_Consumption_LpKM</td>\n      <td>Intercept</td>\n      <td>~</td>\n      <td>0.0</td>\n    </tr>\n    <tr>\n      <th>5</th>\n      <td>Fuel_Consumption_LpKM~Rain_Ind</td>\n      <td>2.1242</td>\n      <td>0.0</td>\n      <td>Fuel_Consumption_LpKM</td>\n      <td>Rain_Ind</td>\n      <td>~</td>\n      <td>0.0</td>\n    </tr>\n    <tr>\n      <th>6</th>\n      <td>Fuel_Consumption_LpKM~Speed_KMpH</td>\n      <td>0.2879</td>\n      <td>0.0</td>\n      <td>Fuel_Consumption_LpKM</td>\n      <td>Speed_KMpH</td>\n      <td>~</td>\n      <td>0.0</td>\n    </tr>\n    <tr>\n      <th>7</th>\n      <td>covariance</td>\n      <td>0.1770</td>\n      <td>0.0</td>\n      <td>Winter_Ind</td>\n      <td>Winter_Ind</td>\n      <td>~~</td>\n      <td>0.0</td>\n    </tr>\n    <tr>\n      <th>8</th>\n      <td>covariance</td>\n      <td>0.0483</td>\n      <td>0.0</td>\n      <td>Winter_Ind</td>\n      <td>Rain_Ind</td>\n      <td>~~</td>\n      <td>0.0</td>\n    </tr>\n    <tr>\n      <th>9</th>\n      <td>covariance</td>\n      <td>-0.0418</td>\n      <td>0.0</td>\n      <td>Winter_Ind</td>\n      <td>Speed_KMpH</td>\n      <td>~~</td>\n      <td>0.0</td>\n    </tr>\n    <tr>\n      <th>10</th>\n      <td>covariance</td>\n      <td>0.0908</td>\n      <td>0.0</td>\n      <td>Winter_Ind</td>\n      <td>Fuel_Consumption_LpKM</td>\n      <td>~~</td>\n      <td>0.0</td>\n    </tr>\n    <tr>\n      <th>11</th>\n      <td>covariance</td>\n      <td>0.1884</td>\n      <td>0.0</td>\n      <td>Rain_Ind</td>\n      <td>Rain_Ind</td>\n      <td>~~</td>\n      <td>0.0</td>\n    </tr>\n    <tr>\n      <th>12</th>\n      <td>covariance</td>\n      <td>-0.1630</td>\n      <td>0.0</td>\n      <td>Rain_Ind</td>\n      <td>Speed_KMpH</td>\n      <td>~~</td>\n      <td>0.0</td>\n    </tr>\n    <tr>\n      <th>13</th>\n      <td>covariance</td>\n      <td>0.3534</td>\n      <td>0.0</td>\n      <td>Rain_Ind</td>\n      <td>Fuel_Consumption_LpKM</td>\n      <td>~~</td>\n      <td>0.0</td>\n    </tr>\n    <tr>\n      <th>14</th>\n      <td>covariance</td>\n      <td>0.6459</td>\n      <td>0.0</td>\n      <td>Speed_KMpH</td>\n      <td>Speed_KMpH</td>\n      <td>~~</td>\n      <td>0.0</td>\n    </tr>\n    <tr>\n      <th>15</th>\n      <td>covariance</td>\n      <td>-0.1601</td>\n      <td>0.0</td>\n      <td>Speed_KMpH</td>\n      <td>Fuel_Consumption_LpKM</td>\n      <td>~~</td>\n      <td>0.0</td>\n    </tr>\n    <tr>\n      <th>16</th>\n      <td>covariance</td>\n      <td>0.9671</td>\n      <td>0.0</td>\n      <td>Fuel_Consumption_LpKM</td>\n      <td>Fuel_Consumption_LpKM</td>\n      <td>~~</td>\n      <td>0.0</td>\n    </tr>\n  </tbody>\n</table>\n</div>"
          },
          "metadata": {}
        }
      ],
      "execution_count": 19,
      "metadata": {
        "gather": {
          "logged": 1661372384200
        },
        "jupyter": {
          "outputs_hidden": false,
          "source_hidden": false
        },
        "nteract": {
          "transient": {
            "deleting": false
          }
        }
      }
    },
    {
      "cell_type": "code",
      "source": [
        "scm_results_plot(df.columns, bootstrap_estimate, 'model_estimates_02')"
      ],
      "outputs": [
        {
          "output_type": "execute_result",
          "execution_count": 20,
          "data": {
            "text/plain": "<graphviz.dot.Digraph at 0x7f47f3e2fac0>",
            "image/svg+xml": "<?xml version=\"1.0\" encoding=\"UTF-8\" standalone=\"no\"?>\n<!DOCTYPE svg PUBLIC \"-//W3C//DTD SVG 1.1//EN\"\n \"http://www.w3.org/Graphics/SVG/1.1/DTD/svg11.dtd\">\n<!-- Generated by graphviz version 2.40.1 (20161225.0304)\n -->\n<!-- Title: model_estimates_02 Pages: 1 -->\n<svg width=\"643pt\" height=\"350pt\"\n viewBox=\"0.00 0.00 643.19 350.00\" xmlns=\"http://www.w3.org/2000/svg\" xmlns:xlink=\"http://www.w3.org/1999/xlink\">\n<g id=\"graph0\" class=\"graph\" transform=\"scale(1 1) rotate(0) translate(4 346)\">\n<title>model_estimates_02</title>\n<polygon fill=\"#ffffff\" stroke=\"transparent\" points=\"-4,4 -4,-346 639.1874,-346 639.1874,4 -4,4\"/>\n<!-- Winter_Ind -->\n<g id=\"node1\" class=\"node\">\n<title>Winter_Ind</title>\n<polygon fill=\"#ffffff\" stroke=\"#000000\" points=\"102.1874,-342 -.1878,-310.5 204.5627,-310.5 102.1874,-342\"/>\n<text text-anchor=\"middle\" x=\"102.1874\" y=\"-317.9\" font-family=\"Times,serif\" font-size=\"12.00\" fill=\"#000000\">Winter_Ind</text>\n</g>\n<!-- Rain_Ind -->\n<g id=\"node3\" class=\"node\">\n<title>Rain_Ind</title>\n<polygon fill=\"#ffffff\" stroke=\"#000000\" points=\"225.1874,-238 155.1874,-238 155.1874,-202 225.1874,-202 225.1874,-238\"/>\n<text text-anchor=\"middle\" x=\"190.1874\" y=\"-216.9\" font-family=\"Times,serif\" font-size=\"12.00\" fill=\"#000000\">Rain_Ind</text>\n</g>\n<!-- Winter_Ind&#45;&gt;Rain_Ind -->\n<g id=\"edge2\" class=\"edge\">\n<title>Winter_Ind&#45;&gt;Rain_Ind</title>\n<path fill=\"none\" stroke=\"#000000\" d=\"M99.4569,-310.2308C96.6069,-296.363 93.9569,-272.1321 105.1874,-256 114.5763,-242.5134 130.0808,-234.0551 145.2956,-228.7607\"/>\n<polygon fill=\"#000000\" stroke=\"#000000\" points=\"146.6566,-232.0039 155.1848,-225.7174 144.5976,-225.3136 146.6566,-232.0039\"/>\n<text text-anchor=\"middle\" x=\"162.1874\" y=\"-272.4\" font-family=\"Times,serif\" font-size=\"12.00\" fill=\"#000000\">p&#45;value = &#160;&#160;&#160;0.0000</text>\n<text text-anchor=\"middle\" x=\"162.1874\" y=\"-259.4\" font-family=\"Times,serif\" font-size=\"12.00\" fill=\"#000000\"> Est. = &#160;&#160;&#160;&#160;&#160;0.46</text>\n</g>\n<!-- Fuel_Consumption_LpKM -->\n<g id=\"node2\" class=\"node\">\n<title>Fuel_Consumption_LpKM</title>\n<polygon fill=\"#ffffff\" stroke=\"#000000\" points=\"354.1874,0 564.749,-31.5 143.6259,-31.5 354.1874,0\"/>\n<text text-anchor=\"middle\" x=\"354.1874\" y=\"-17.9\" font-family=\"Times,serif\" font-size=\"12.00\" fill=\"#000000\">Fuel_Consumption_LpKM</text>\n</g>\n<!-- Rain_Ind&#45;&gt;Fuel_Consumption_LpKM -->\n<g id=\"edge6\" class=\"edge\">\n<title>Rain_Ind&#45;&gt;Fuel_Consumption_LpKM</title>\n<path fill=\"none\" stroke=\"#000000\" d=\"M182.7977,-201.9113C174.1622,-177.6347 163.2971,-134.0905 182.1874,-104 205.4906,-66.8803 250.5878,-45.9648 288.7587,-34.4162\"/>\n<polygon fill=\"#000000\" stroke=\"#000000\" points=\"290.155,-37.6571 298.8054,-31.5397 288.2282,-30.9275 290.155,-37.6571\"/>\n<text text-anchor=\"middle\" x=\"239.1874\" y=\"-125.4\" font-family=\"Times,serif\" font-size=\"12.00\" fill=\"#000000\">p&#45;value = &#160;&#160;&#160;0.0000</text>\n<text text-anchor=\"middle\" x=\"239.1874\" y=\"-112.4\" font-family=\"Times,serif\" font-size=\"12.00\" fill=\"#000000\"> Est. = &#160;&#160;&#160;&#160;&#160;2.12</text>\n</g>\n<!-- Speed_KMpH -->\n<g id=\"node4\" class=\"node\">\n<title>Speed_KMpH</title>\n<polygon fill=\"#ffffff\" stroke=\"#000000\" points=\"403.1874,-140 305.1874,-140 305.1874,-104 403.1874,-104 403.1874,-140\"/>\n<text text-anchor=\"middle\" x=\"354.1874\" y=\"-118.9\" font-family=\"Times,serif\" font-size=\"12.00\" fill=\"#000000\">Speed_KMpH</text>\n</g>\n<!-- Rain_Ind&#45;&gt;Speed_KMpH -->\n<g id=\"edge4\" class=\"edge\">\n<title>Rain_Ind&#45;&gt;Speed_KMpH</title>\n<path fill=\"none\" stroke=\"#000000\" d=\"M199.5106,-201.7432C207.4835,-187.8587 220.1966,-169.2789 236.1874,-158 238.9176,-156.0744 267.0237,-147.4722 295.1182,-139.1599\"/>\n<polygon fill=\"#000000\" stroke=\"#000000\" points=\"296.4109,-142.4278 305.0134,-136.2433 294.4318,-135.7134 296.4109,-142.4278\"/>\n<text text-anchor=\"middle\" x=\"293.1874\" y=\"-174.4\" font-family=\"Times,serif\" font-size=\"12.00\" fill=\"#000000\">p&#45;value = &#160;&#160;&#160;0.0000</text>\n<text text-anchor=\"middle\" x=\"293.1874\" y=\"-161.4\" font-family=\"Times,serif\" font-size=\"12.00\" fill=\"#000000\"> Est. = &#160;&#160;&#160;&#160;&#45;0.87</text>\n</g>\n<!-- Speed_KMpH&#45;&gt;Fuel_Consumption_LpKM -->\n<g id=\"edge7\" class=\"edge\">\n<title>Speed_KMpH&#45;&gt;Fuel_Consumption_LpKM</title>\n<path fill=\"none\" stroke=\"#000000\" d=\"M354.1874,-103.9432C354.1874,-86.5576 354.1874,-60.2753 354.1874,-41.9714\"/>\n<polygon fill=\"#000000\" stroke=\"#000000\" points=\"357.6875,-41.7564 354.1874,-31.7564 350.6875,-41.7565 357.6875,-41.7564\"/>\n<text text-anchor=\"middle\" x=\"411.1874\" y=\"-76.4\" font-family=\"Times,serif\" font-size=\"12.00\" fill=\"#000000\">p&#45;value = &#160;&#160;&#160;0.0000</text>\n<text text-anchor=\"middle\" x=\"411.1874\" y=\"-63.4\" font-family=\"Times,serif\" font-size=\"12.00\" fill=\"#000000\"> Est. = &#160;&#160;&#160;&#160;&#160;0.29</text>\n</g>\n<!-- Rain_Ind Intercept -->\n<g id=\"node5\" class=\"node\">\n<title>Rain_Ind Intercept</title>\n<polygon fill=\"#ffffff\" stroke=\"transparent\" points=\"334.1874,-327.5 222.1874,-327.5 222.1874,-314.5 334.1874,-314.5 334.1874,-327.5\"/>\n<text text-anchor=\"middle\" x=\"278.1874\" y=\"-317.9\" font-family=\"Times,serif\" font-size=\"12.00\" fill=\"#000000\">Rain_Ind Intercept</text>\n</g>\n<!-- Rain_Ind Intercept&#45;&gt;Rain_Ind -->\n<g id=\"edge1\" class=\"edge\">\n<title>Rain_Ind Intercept&#45;&gt;Rain_Ind</title>\n<path fill=\"none\" stroke=\"#000000\" d=\"M272.4135,-314.3731C260.5103,-300.7114 232.6852,-268.7759 212.6996,-245.8378\"/>\n<polygon fill=\"#000000\" stroke=\"#000000\" points=\"215.2044,-243.3847 205.9963,-238.1442 209.9266,-247.9831 215.2044,-243.3847\"/>\n<text text-anchor=\"middle\" x=\"298.1874\" y=\"-272.4\" font-family=\"Times,serif\" font-size=\"12.00\" fill=\"#000000\">p&#45;value = &#160;&#160;&#160;0.0000</text>\n<text text-anchor=\"middle\" x=\"298.1874\" y=\"-259.4\" font-family=\"Times,serif\" font-size=\"12.00\" fill=\"#000000\"> Est. = &#160;&#160;&#160;&#160;&#160;0.19</text>\n</g>\n<!-- Speed_KMpH Intercept -->\n<g id=\"node6\" class=\"node\">\n<title>Speed_KMpH Intercept</title>\n<polygon fill=\"#ffffff\" stroke=\"transparent\" points=\"424.6874,-226.5 283.6874,-226.5 283.6874,-213.5 424.6874,-213.5 424.6874,-226.5\"/>\n<text text-anchor=\"middle\" x=\"354.1874\" y=\"-216.9\" font-family=\"Times,serif\" font-size=\"12.00\" fill=\"#000000\">Speed_KMpH Intercept</text>\n</g>\n<!-- Speed_KMpH Intercept&#45;&gt;Speed_KMpH -->\n<g id=\"edge3\" class=\"edge\">\n<title>Speed_KMpH Intercept&#45;&gt;Speed_KMpH</title>\n<path fill=\"none\" stroke=\"#000000\" d=\"M354.1874,-213.2641C354.1874,-200.48 354.1874,-172.033 354.1874,-150.2723\"/>\n<polygon fill=\"#000000\" stroke=\"#000000\" points=\"357.6875,-150.2248 354.1874,-140.2249 350.6875,-150.2249 357.6875,-150.2248\"/>\n<text text-anchor=\"middle\" x=\"411.1874\" y=\"-174.4\" font-family=\"Times,serif\" font-size=\"12.00\" fill=\"#000000\">p&#45;value = &#160;&#160;&#160;0.0000</text>\n<text text-anchor=\"middle\" x=\"411.1874\" y=\"-161.4\" font-family=\"Times,serif\" font-size=\"12.00\" fill=\"#000000\"> Est. = &#160;&#160;&#160;&#160;59.97</text>\n</g>\n<!-- Fuel_Consumption_LpKM Intercept -->\n<g id=\"node7\" class=\"node\">\n<title>Fuel_Consumption_LpKM Intercept</title>\n<polygon fill=\"#ffffff\" stroke=\"transparent\" points=\"635.1874,-128.5 421.1874,-128.5 421.1874,-115.5 635.1874,-115.5 635.1874,-128.5\"/>\n<text text-anchor=\"middle\" x=\"528.1874\" y=\"-118.9\" font-family=\"Times,serif\" font-size=\"12.00\" fill=\"#000000\">Fuel_Consumption_LpKM Intercept</text>\n</g>\n<!-- Fuel_Consumption_LpKM Intercept&#45;&gt;Fuel_Consumption_LpKM -->\n<g id=\"edge5\" class=\"edge\">\n<title>Fuel_Consumption_LpKM Intercept&#45;&gt;Fuel_Consumption_LpKM</title>\n<path fill=\"none\" stroke=\"#000000\" d=\"M523.8117,-115.1641C515.3522,-102.4791 495.5169,-75.2083 472.1874,-60 454.7924,-48.6603 433.7993,-40.3348 414.372,-34.3598\"/>\n<polygon fill=\"#000000\" stroke=\"#000000\" points=\"415.2646,-30.9743 404.6843,-31.5295 413.3015,-37.6934 415.2646,-30.9743\"/>\n<text text-anchor=\"middle\" x=\"557.1874\" y=\"-76.4\" font-family=\"Times,serif\" font-size=\"12.00\" fill=\"#000000\">p&#45;value = &#160;&#160;&#160;0.0000</text>\n<text text-anchor=\"middle\" x=\"557.1874\" y=\"-63.4\" font-family=\"Times,serif\" font-size=\"12.00\" fill=\"#000000\"> Est. = &#160;&#160;&#160;&#160;47.74</text>\n</g>\n</g>\n</svg>\n"
          },
          "metadata": {}
        }
      ],
      "execution_count": 20,
      "metadata": {
        "gather": {
          "logged": 1661372384642
        },
        "jupyter": {
          "outputs_hidden": false,
          "source_hidden": false
        },
        "nteract": {
          "transient": {
            "deleting": false
          }
        }
      }
    },
    {
      "cell_type": "code",
      "source": [
        "scm_induced_covariances_plot(df.columns, bootstrap_estimate, 'scm_induced_covariances_02')"
      ],
      "outputs": [
        {
          "output_type": "execute_result",
          "execution_count": 21,
          "data": {
            "text/plain": "<graphviz.dot.Digraph at 0x7f47f13f4070>",
            "image/svg+xml": "<?xml version=\"1.0\" encoding=\"UTF-8\" standalone=\"no\"?>\n<!DOCTYPE svg PUBLIC \"-//W3C//DTD SVG 1.1//EN\"\n \"http://www.w3.org/Graphics/SVG/1.1/DTD/svg11.dtd\">\n<!-- Generated by graphviz version 2.40.1 (20161225.0304)\n -->\n<!-- Title: scm_induced_covariances_02 Pages: 1 -->\n<svg width=\"581pt\" height=\"350pt\"\n viewBox=\"0.00 0.00 580.53 350.00\" xmlns=\"http://www.w3.org/2000/svg\" xmlns:xlink=\"http://www.w3.org/1999/xlink\">\n<g id=\"graph0\" class=\"graph\" transform=\"scale(1 1) rotate(0) translate(4 346)\">\n<title>scm_induced_covariances_02</title>\n<polygon fill=\"#ffffff\" stroke=\"transparent\" points=\"-4,4 -4,-346 576.5308,-346 576.5308,4 -4,4\"/>\n<!-- Fuel_Consumption_LpKM -->\n<g id=\"node1\" class=\"node\">\n<title>Fuel_Consumption_LpKM</title>\n<polygon fill=\"#ffffff\" stroke=\"#000000\" points=\"210.5308,-342 -.0308,-310.5 421.0923,-310.5 210.5308,-342\"/>\n<text text-anchor=\"middle\" x=\"210.5308\" y=\"-317.9\" font-family=\"Times,serif\" font-size=\"12.00\" fill=\"#000000\">Fuel_Consumption_LpKM</text>\n</g>\n<!-- Fuel_Consumption_LpKM&#45;&gt;Fuel_Consumption_LpKM -->\n<g id=\"edge10\" class=\"edge\">\n<title>Fuel_Consumption_LpKM&#45;&gt;Fuel_Consumption_LpKM</title>\n<path fill=\"none\" stroke=\"#000000\" d=\"M305.8183,-329.7578C372.7959,-332.4928 439.0615,-329.5736 439.0615,-321 439.0615,-317.8549 430.1444,-315.4707 415.546,-313.8474\"/>\n<polygon fill=\"#000000\" stroke=\"#000000\" points=\"305.6546,-326.2469 295.5068,-329.2919 305.3386,-333.2398 305.6546,-326.2469\"/>\n<polygon fill=\"#000000\" stroke=\"#000000\" points=\"415.4483,-310.3237 405.1691,-312.8902 414.8053,-317.2941 415.4483,-310.3237\"/>\n<text text-anchor=\"middle\" x=\"496.0615\" y=\"-324.4\" font-family=\"Times,serif\" font-size=\"12.00\" fill=\"#000000\">p&#45;value = &#160;&#160;&#160;0.0000</text>\n<text text-anchor=\"middle\" x=\"496.0615\" y=\"-311.4\" font-family=\"Times,serif\" font-size=\"12.00\" fill=\"#000000\"> Est. = &#160;&#160;&#160;&#160;&#160;0.97</text>\n</g>\n<!-- Winter_Ind -->\n<g id=\"node2\" class=\"node\">\n<title>Winter_Ind</title>\n<polygon fill=\"#ffffff\" stroke=\"#000000\" points=\"199.5308,0 301.906,-31.5 97.1555,-31.5 199.5308,0\"/>\n<text text-anchor=\"middle\" x=\"199.5308\" y=\"-17.9\" font-family=\"Times,serif\" font-size=\"12.00\" fill=\"#000000\">Winter_Ind</text>\n</g>\n<!-- Fuel_Consumption_LpKM&#45;&gt;Winter_Ind -->\n<g id=\"edge4\" class=\"edge\">\n<title>Fuel_Consumption_LpKM&#45;&gt;Winter_Ind</title>\n<path fill=\"none\" stroke=\"#000000\" d=\"M186.7102,-304.2581C156.2647,-281.2333 105.0457,-236.6114 84.5308,-184 61.0288,-123.7283 133.051,-64.63 173.7089,-37.082\"/>\n<polygon fill=\"#000000\" stroke=\"#000000\" points=\"184.9463,-307.3064 195.0695,-310.4321 189.1051,-301.6757 184.9463,-307.3064\"/>\n<polygon fill=\"#000000\" stroke=\"#000000\" points=\"175.686,-39.9707 182.1021,-31.5396 171.8286,-34.1294 175.686,-39.9707\"/>\n<text text-anchor=\"middle\" x=\"141.5308\" y=\"-174.4\" font-family=\"Times,serif\" font-size=\"12.00\" fill=\"#000000\">p&#45;value = &#160;&#160;&#160;0.0000</text>\n<text text-anchor=\"middle\" x=\"141.5308\" y=\"-161.4\" font-family=\"Times,serif\" font-size=\"12.00\" fill=\"#000000\"> Est. = &#160;&#160;&#160;&#160;&#160;0.09</text>\n</g>\n<!-- Rain_Ind -->\n<g id=\"node3\" class=\"node\">\n<title>Rain_Ind</title>\n<polygon fill=\"#ffffff\" stroke=\"#000000\" points=\"234.5308,-140 164.5308,-140 164.5308,-104 234.5308,-104 234.5308,-140\"/>\n<text text-anchor=\"middle\" x=\"199.5308\" y=\"-118.9\" font-family=\"Times,serif\" font-size=\"12.00\" fill=\"#000000\">Rain_Ind</text>\n</g>\n<!-- Fuel_Consumption_LpKM&#45;&gt;Rain_Ind -->\n<g id=\"edge7\" class=\"edge\">\n<title>Fuel_Consumption_LpKM&#45;&gt;Rain_Ind</title>\n<path fill=\"none\" stroke=\"#000000\" d=\"M209.3752,-300.0942C207.3876,-264.1374 203.3205,-190.5607 201.0862,-150.1401\"/>\n<polygon fill=\"#000000\" stroke=\"#000000\" points=\"205.8927,-300.5093 209.9394,-310.3009 212.882,-300.1229 205.8927,-300.5093\"/>\n<polygon fill=\"#000000\" stroke=\"#000000\" points=\"204.5806,-149.9403 200.534,-140.1488 197.5913,-150.3267 204.5806,-149.9403\"/>\n<text text-anchor=\"middle\" x=\"263.5308\" y=\"-223.4\" font-family=\"Times,serif\" font-size=\"12.00\" fill=\"#000000\">p&#45;value = &#160;&#160;&#160;0.0000</text>\n<text text-anchor=\"middle\" x=\"263.5308\" y=\"-210.4\" font-family=\"Times,serif\" font-size=\"12.00\" fill=\"#000000\"> Est. = &#160;&#160;&#160;&#160;&#160;0.35</text>\n</g>\n<!-- Speed_KMpH -->\n<g id=\"node4\" class=\"node\">\n<title>Speed_KMpH</title>\n<polygon fill=\"#ffffff\" stroke=\"#000000\" points=\"440.5308,-238 342.5308,-238 342.5308,-202 440.5308,-202 440.5308,-238\"/>\n<text text-anchor=\"middle\" x=\"391.5308\" y=\"-216.9\" font-family=\"Times,serif\" font-size=\"12.00\" fill=\"#000000\">Speed_KMpH</text>\n</g>\n<!-- Fuel_Consumption_LpKM&#45;&gt;Speed_KMpH -->\n<g id=\"edge9\" class=\"edge\">\n<title>Fuel_Consumption_LpKM&#45;&gt;Speed_KMpH</title>\n<path fill=\"none\" stroke=\"#000000\" d=\"M238.546,-305.3672C268.4352,-288.6887 316.0896,-262.097 350.2708,-243.0235\"/>\n<polygon fill=\"#000000\" stroke=\"#000000\" points=\"236.5858,-302.4529 229.5588,-310.3821 239.9968,-308.5656 236.5858,-302.4529\"/>\n<polygon fill=\"#000000\" stroke=\"#000000\" points=\"352.0622,-246.032 359.0892,-238.1028 348.6512,-239.9193 352.0622,-246.032\"/>\n<text text-anchor=\"middle\" x=\"379.5308\" y=\"-272.4\" font-family=\"Times,serif\" font-size=\"12.00\" fill=\"#000000\">p&#45;value = &#160;&#160;&#160;0.0000</text>\n<text text-anchor=\"middle\" x=\"379.5308\" y=\"-259.4\" font-family=\"Times,serif\" font-size=\"12.00\" fill=\"#000000\"> Est. = &#160;&#160;&#160;&#160;&#45;0.16</text>\n</g>\n<!-- Winter_Ind&#45;&gt;Winter_Ind -->\n<g id=\"edge1\" class=\"edge\">\n<title>Winter_Ind&#45;&gt;Winter_Ind</title>\n<path fill=\"none\" stroke=\"#000000\" d=\"M305.7793,-28.1793C314.3837,-26.6184 319.7182,-24.2253 319.7182,-21 319.7182,-13.0006 286.9038,-10.1204 252.7745,-12.3595\"/>\n<polygon fill=\"#000000\" stroke=\"#000000\" points=\"305.1729,-24.7289 295.7155,-29.5047 306.0869,-31.669 305.1729,-24.7289\"/>\n<polygon fill=\"#000000\" stroke=\"#000000\" points=\"252.3469,-8.8825 242.6594,-13.1722 252.9076,-15.86 252.3469,-8.8825\"/>\n<text text-anchor=\"middle\" x=\"376.7182\" y=\"-24.4\" font-family=\"Times,serif\" font-size=\"12.00\" fill=\"#000000\">p&#45;value = &#160;&#160;&#160;0.0000</text>\n<text text-anchor=\"middle\" x=\"376.7182\" y=\"-11.4\" font-family=\"Times,serif\" font-size=\"12.00\" fill=\"#000000\"> Est. = &#160;&#160;&#160;&#160;&#160;0.18</text>\n</g>\n<!-- Rain_Ind&#45;&gt;Winter_Ind -->\n<g id=\"edge2\" class=\"edge\">\n<title>Rain_Ind&#45;&gt;Winter_Ind</title>\n<path fill=\"none\" stroke=\"#000000\" d=\"M199.5308,-93.834C199.5308,-77.4185 199.5308,-57.0604 199.5308,-42.0443\"/>\n<polygon fill=\"#000000\" stroke=\"#000000\" points=\"196.0309,-93.9432 199.5308,-103.9432 203.0309,-93.9433 196.0309,-93.9432\"/>\n<polygon fill=\"#000000\" stroke=\"#000000\" points=\"203.0309,-41.7564 199.5308,-31.7564 196.0309,-41.7565 203.0309,-41.7564\"/>\n<text text-anchor=\"middle\" x=\"256.5308\" y=\"-76.4\" font-family=\"Times,serif\" font-size=\"12.00\" fill=\"#000000\">p&#45;value = &#160;&#160;&#160;0.0000</text>\n<text text-anchor=\"middle\" x=\"256.5308\" y=\"-63.4\" font-family=\"Times,serif\" font-size=\"12.00\" fill=\"#000000\"> Est. = &#160;&#160;&#160;&#160;&#160;0.05</text>\n</g>\n<!-- Rain_Ind&#45;&gt;Rain_Ind -->\n<g id=\"edge5\" class=\"edge\">\n<title>Rain_Ind&#45;&gt;Rain_Ind</title>\n<path fill=\"none\" stroke=\"#000000\" d=\"M244.7654,-129.457C249.4981,-128.0013 252.5308,-125.5156 252.5308,-122 252.5308,-118.4844 249.4981,-115.9987 244.7654,-114.543\"/>\n<polygon fill=\"#000000\" stroke=\"#000000\" points=\"244.0698,-126.022 234.6986,-130.9648 245.1067,-132.9448 244.0698,-126.022\"/>\n<polygon fill=\"#000000\" stroke=\"#000000\" points=\"245.1067,-111.0552 234.6986,-113.0352 244.0698,-117.978 245.1067,-111.0552\"/>\n<text text-anchor=\"middle\" x=\"309.5308\" y=\"-125.4\" font-family=\"Times,serif\" font-size=\"12.00\" fill=\"#000000\">p&#45;value = &#160;&#160;&#160;0.0000</text>\n<text text-anchor=\"middle\" x=\"309.5308\" y=\"-112.4\" font-family=\"Times,serif\" font-size=\"12.00\" fill=\"#000000\"> Est. = &#160;&#160;&#160;&#160;&#160;0.19</text>\n</g>\n<!-- Speed_KMpH&#45;&gt;Winter_Ind -->\n<g id=\"edge3\" class=\"edge\">\n<title>Speed_KMpH&#45;&gt;Winter_Ind</title>\n<path fill=\"none\" stroke=\"#000000\" d=\"M394.1054,-191.5727C394.9517,-166.5323 392.586,-130.0873 375.5308,-104 351.1607,-66.724 305.2184,-45.8292 266.3836,-34.3291\"/>\n<polygon fill=\"#000000\" stroke=\"#000000\" points=\"390.5939,-191.6971 393.5559,-201.8695 397.5839,-192.0702 390.5939,-191.6971\"/>\n<polygon fill=\"#000000\" stroke=\"#000000\" points=\"267.2549,-30.9384 256.6809,-31.6035 265.3617,-37.6776 267.2549,-30.9384\"/>\n<text text-anchor=\"middle\" x=\"446.5308\" y=\"-125.4\" font-family=\"Times,serif\" font-size=\"12.00\" fill=\"#000000\">p&#45;value = &#160;&#160;&#160;0.0000</text>\n<text text-anchor=\"middle\" x=\"446.5308\" y=\"-112.4\" font-family=\"Times,serif\" font-size=\"12.00\" fill=\"#000000\"> Est. = &#160;&#160;&#160;&#160;&#45;0.04</text>\n</g>\n<!-- Speed_KMpH&#45;&gt;Rain_Ind -->\n<g id=\"edge6\" class=\"edge\">\n<title>Speed_KMpH&#45;&gt;Rain_Ind</title>\n<path fill=\"none\" stroke=\"#000000\" d=\"M332.7482,-203.009C306.4968,-195.2179 280.174,-187.0438 274.5308,-184 256.3837,-174.212 238.4932,-159.665 224.7392,-147.1214\"/>\n<polygon fill=\"#000000\" stroke=\"#000000\" points=\"331.7963,-206.3772 342.3781,-205.8518 333.7783,-199.6637 331.7963,-206.3772\"/>\n<polygon fill=\"#000000\" stroke=\"#000000\" points=\"226.8417,-144.2954 217.1485,-140.0185 222.0589,-149.4067 226.8417,-144.2954\"/>\n<text text-anchor=\"middle\" x=\"331.5308\" y=\"-174.4\" font-family=\"Times,serif\" font-size=\"12.00\" fill=\"#000000\">p&#45;value = &#160;&#160;&#160;0.0000</text>\n<text text-anchor=\"middle\" x=\"331.5308\" y=\"-161.4\" font-family=\"Times,serif\" font-size=\"12.00\" fill=\"#000000\"> Est. = &#160;&#160;&#160;&#160;&#45;0.16</text>\n</g>\n<!-- Speed_KMpH&#45;&gt;Speed_KMpH -->\n<g id=\"edge8\" class=\"edge\">\n<title>Speed_KMpH&#45;&gt;Speed_KMpH</title>\n<path fill=\"none\" stroke=\"#000000\" d=\"M450.4947,-226.9738C455.4469,-225.4777 458.5308,-223.1531 458.5308,-220 458.5308,-216.8469 455.4469,-214.5223 450.4947,-213.0262\"/>\n<polygon fill=\"#000000\" stroke=\"#000000\" points=\"449.8551,-223.5324 440.6112,-228.7094 451.0659,-230.4269 449.8551,-223.5324\"/>\n<polygon fill=\"#000000\" stroke=\"#000000\" points=\"451.0659,-209.5731 440.6112,-211.2906 449.8551,-216.4676 451.0659,-209.5731\"/>\n<text text-anchor=\"middle\" x=\"515.5308\" y=\"-223.4\" font-family=\"Times,serif\" font-size=\"12.00\" fill=\"#000000\">p&#45;value = &#160;&#160;&#160;0.0000</text>\n<text text-anchor=\"middle\" x=\"515.5308\" y=\"-210.4\" font-family=\"Times,serif\" font-size=\"12.00\" fill=\"#000000\"> Est. = &#160;&#160;&#160;&#160;&#160;0.65</text>\n</g>\n</g>\n</svg>\n"
          },
          "metadata": {}
        }
      ],
      "execution_count": 21,
      "metadata": {
        "gather": {
          "logged": 1661372384963
        },
        "jupyter": {
          "outputs_hidden": false,
          "source_hidden": false
        },
        "nteract": {
          "transient": {
            "deleting": false
          }
        }
      }
    }
  ],
  "metadata": {
    "kernel_info": {
      "name": "python3"
    },
    "kernelspec": {
      "name": "python3",
      "language": "python",
      "display_name": "Python 3"
    },
    "language_info": {
      "name": "python",
      "version": "3.8.1",
      "mimetype": "text/x-python",
      "codemirror_mode": {
        "name": "ipython",
        "version": 3
      },
      "pygments_lexer": "ipython3",
      "nbconvert_exporter": "python",
      "file_extension": ".py"
    },
    "microsoft": {
      "host": {
        "AzureML": {
          "notebookHasBeenCompleted": true
        }
      }
    },
    "nteract": {
      "version": "nteract-front-end@1.0.0"
    },
    "vscode": {
      "interpreter": {
        "hash": "6d65a8c07f5b6469e0fc613f182488c0dccce05038bbda39e5ac9075c0454d11"
      }
    }
  },
  "nbformat": 4,
  "nbformat_minor": 2
}